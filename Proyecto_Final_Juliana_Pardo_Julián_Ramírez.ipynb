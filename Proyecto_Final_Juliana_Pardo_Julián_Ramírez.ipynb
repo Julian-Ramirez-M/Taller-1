{
  "nbformat": 4,
  "nbformat_minor": 0,
  "metadata": {
    "colab": {
      "provenance": [],
      "authorship_tag": "ABX9TyNN8YjMrvzHNIbMmhlo0Am6",
      "include_colab_link": true
    },
    "kernelspec": {
      "name": "python3",
      "display_name": "Python 3"
    },
    "language_info": {
      "name": "python"
    }
  },
  "cells": [
    {
      "cell_type": "markdown",
      "metadata": {
        "id": "view-in-github",
        "colab_type": "text"
      },
      "source": [
        "<a href=\"https://colab.research.google.com/github/Julian-Ramirez-M/Talleres/blob/main/Proyecto_Final_Juliana_Pardo_Juli%C3%A1n_Ram%C3%ADrez.ipynb\" target=\"_parent\"><img src=\"https://colab.research.google.com/assets/colab-badge.svg\" alt=\"Open In Colab\"/></a>"
      ]
    },
    {
      "cell_type": "markdown",
      "source": [
        "**Planteamiento**\n",
        "\n",
        "Tema: Optimizaciónn de la producción, para maximizar la utilidad y simulación de la demanda, para comprobar si satisface el supuesto de la maximización de la utilidad.\n",
        "\n",
        "**Producto A** (galletas de chocolate): Para la producción de una unidad se necesita 5 gramos de harina, 8 gramos de chocolate y 2 gramos de sal además dicha producción tiene un costo de $2000. \n",
        "\n",
        "**Producto B** (galletas de cereza): Para la producción de una unidad se necesita 7 gramos de harina, 12 gramos de endulzante de cereza y 3 gramos de sal, con un costo de $3500.\n",
        "\n",
        "**Inventario de Materia Prima:** \n",
        "\n",
        "Harina: 100.000 gramos\n",
        "\n",
        "Chocolate: 25.000 gramos\n",
        "\n",
        "Sal: 50.000 gramos\n",
        "\n",
        "Endulzante de cereza: 12.000 gramos \n",
        "\n",
        "**Utilidad**\n",
        "\n",
        "Galletas de chocolate: Con un precio de venta de $3500 la ganancia por unidad producida es de \\$1500.\n",
        "\n",
        "Galletas de cereza: Con un precio de venta de $6000, la ganancia por unidad producida es de \\$2500.\n",
        "\n",
        "**Producción**\n",
        "\n",
        "Se necesita una producción 480 unidades de galletas de chocolate y 590 unidades de galletas de cereza, para satisfacer la demanda del mercado.\n",
        "\n",
        "\n",
        "\n",
        "\n",
        "\n",
        "\n",
        "\n"
      ],
      "metadata": {
        "id": "wxKCFLPyFvYv"
      }
    },
    {
      "cell_type": "code",
      "execution_count": 1,
      "metadata": {
        "id": "jzXyBSwWFtpc"
      },
      "outputs": [],
      "source": [
        "#Librerías\n",
        "import numpy as np\n",
        "import pandas as pd\n",
        "import cvxpy as cp\n",
        "import matplotlib.pyplot as plt\n",
        "from scipy.optimize import minimize\n",
        "from scipy.optimize import linprog"
      ]
    },
    {
      "cell_type": "code",
      "source": [
        "tab_1 = pd.DataFrame({\"\": [\"Harina\", \"Chocolate\", \"Sal\", \"Dulce cereza\", \"Utilidad - $\"],\n",
        "                   \"Galletas Chocolate\" : [5, 8, 2, 0, 1500],\n",
        "                   \"Galletas Cereza\" : [7, 0, 3, 12, 2500]})\n",
        "tab_1"
      ],
      "metadata": {
        "colab": {
          "base_uri": "https://localhost:8080/",
          "height": 206
        },
        "id": "Hu3J2PxaT2Nu",
        "outputId": "cd82882a-dc4f-4912-c9f0-44776dc87612"
      },
      "execution_count": 2,
      "outputs": [
        {
          "output_type": "execute_result",
          "data": {
            "text/plain": [
              "                 Galletas Chocolate  Galletas Cereza\n",
              "0        Harina                   5                7\n",
              "1     Chocolate                   8                0\n",
              "2           Sal                   2                3\n",
              "3  Dulce cereza                   0               12\n",
              "4  Utilidad - $                1500             2500"
            ],
            "text/html": [
              "\n",
              "  <div id=\"df-266ce166-a9b4-40e7-a2a1-fda3b0081e0e\">\n",
              "    <div class=\"colab-df-container\">\n",
              "      <div>\n",
              "<style scoped>\n",
              "    .dataframe tbody tr th:only-of-type {\n",
              "        vertical-align: middle;\n",
              "    }\n",
              "\n",
              "    .dataframe tbody tr th {\n",
              "        vertical-align: top;\n",
              "    }\n",
              "\n",
              "    .dataframe thead th {\n",
              "        text-align: right;\n",
              "    }\n",
              "</style>\n",
              "<table border=\"1\" class=\"dataframe\">\n",
              "  <thead>\n",
              "    <tr style=\"text-align: right;\">\n",
              "      <th></th>\n",
              "      <th></th>\n",
              "      <th>Galletas Chocolate</th>\n",
              "      <th>Galletas Cereza</th>\n",
              "    </tr>\n",
              "  </thead>\n",
              "  <tbody>\n",
              "    <tr>\n",
              "      <th>0</th>\n",
              "      <td>Harina</td>\n",
              "      <td>5</td>\n",
              "      <td>7</td>\n",
              "    </tr>\n",
              "    <tr>\n",
              "      <th>1</th>\n",
              "      <td>Chocolate</td>\n",
              "      <td>8</td>\n",
              "      <td>0</td>\n",
              "    </tr>\n",
              "    <tr>\n",
              "      <th>2</th>\n",
              "      <td>Sal</td>\n",
              "      <td>2</td>\n",
              "      <td>3</td>\n",
              "    </tr>\n",
              "    <tr>\n",
              "      <th>3</th>\n",
              "      <td>Dulce cereza</td>\n",
              "      <td>0</td>\n",
              "      <td>12</td>\n",
              "    </tr>\n",
              "    <tr>\n",
              "      <th>4</th>\n",
              "      <td>Utilidad - $</td>\n",
              "      <td>1500</td>\n",
              "      <td>2500</td>\n",
              "    </tr>\n",
              "  </tbody>\n",
              "</table>\n",
              "</div>\n",
              "      <button class=\"colab-df-convert\" onclick=\"convertToInteractive('df-266ce166-a9b4-40e7-a2a1-fda3b0081e0e')\"\n",
              "              title=\"Convert this dataframe to an interactive table.\"\n",
              "              style=\"display:none;\">\n",
              "        \n",
              "  <svg xmlns=\"http://www.w3.org/2000/svg\" height=\"24px\"viewBox=\"0 0 24 24\"\n",
              "       width=\"24px\">\n",
              "    <path d=\"M0 0h24v24H0V0z\" fill=\"none\"/>\n",
              "    <path d=\"M18.56 5.44l.94 2.06.94-2.06 2.06-.94-2.06-.94-.94-2.06-.94 2.06-2.06.94zm-11 1L8.5 8.5l.94-2.06 2.06-.94-2.06-.94L8.5 2.5l-.94 2.06-2.06.94zm10 10l.94 2.06.94-2.06 2.06-.94-2.06-.94-.94-2.06-.94 2.06-2.06.94z\"/><path d=\"M17.41 7.96l-1.37-1.37c-.4-.4-.92-.59-1.43-.59-.52 0-1.04.2-1.43.59L10.3 9.45l-7.72 7.72c-.78.78-.78 2.05 0 2.83L4 21.41c.39.39.9.59 1.41.59.51 0 1.02-.2 1.41-.59l7.78-7.78 2.81-2.81c.8-.78.8-2.07 0-2.86zM5.41 20L4 18.59l7.72-7.72 1.47 1.35L5.41 20z\"/>\n",
              "  </svg>\n",
              "      </button>\n",
              "      \n",
              "  <style>\n",
              "    .colab-df-container {\n",
              "      display:flex;\n",
              "      flex-wrap:wrap;\n",
              "      gap: 12px;\n",
              "    }\n",
              "\n",
              "    .colab-df-convert {\n",
              "      background-color: #E8F0FE;\n",
              "      border: none;\n",
              "      border-radius: 50%;\n",
              "      cursor: pointer;\n",
              "      display: none;\n",
              "      fill: #1967D2;\n",
              "      height: 32px;\n",
              "      padding: 0 0 0 0;\n",
              "      width: 32px;\n",
              "    }\n",
              "\n",
              "    .colab-df-convert:hover {\n",
              "      background-color: #E2EBFA;\n",
              "      box-shadow: 0px 1px 2px rgba(60, 64, 67, 0.3), 0px 1px 3px 1px rgba(60, 64, 67, 0.15);\n",
              "      fill: #174EA6;\n",
              "    }\n",
              "\n",
              "    [theme=dark] .colab-df-convert {\n",
              "      background-color: #3B4455;\n",
              "      fill: #D2E3FC;\n",
              "    }\n",
              "\n",
              "    [theme=dark] .colab-df-convert:hover {\n",
              "      background-color: #434B5C;\n",
              "      box-shadow: 0px 1px 3px 1px rgba(0, 0, 0, 0.15);\n",
              "      filter: drop-shadow(0px 1px 2px rgba(0, 0, 0, 0.3));\n",
              "      fill: #FFFFFF;\n",
              "    }\n",
              "  </style>\n",
              "\n",
              "      <script>\n",
              "        const buttonEl =\n",
              "          document.querySelector('#df-266ce166-a9b4-40e7-a2a1-fda3b0081e0e button.colab-df-convert');\n",
              "        buttonEl.style.display =\n",
              "          google.colab.kernel.accessAllowed ? 'block' : 'none';\n",
              "\n",
              "        async function convertToInteractive(key) {\n",
              "          const element = document.querySelector('#df-266ce166-a9b4-40e7-a2a1-fda3b0081e0e');\n",
              "          const dataTable =\n",
              "            await google.colab.kernel.invokeFunction('convertToInteractive',\n",
              "                                                     [key], {});\n",
              "          if (!dataTable) return;\n",
              "\n",
              "          const docLinkHtml = 'Like what you see? Visit the ' +\n",
              "            '<a target=\"_blank\" href=https://colab.research.google.com/notebooks/data_table.ipynb>data table notebook</a>'\n",
              "            + ' to learn more about interactive tables.';\n",
              "          element.innerHTML = '';\n",
              "          dataTable['output_type'] = 'display_data';\n",
              "          await google.colab.output.renderOutput(dataTable, element);\n",
              "          const docLink = document.createElement('div');\n",
              "          docLink.innerHTML = docLinkHtml;\n",
              "          element.appendChild(docLink);\n",
              "        }\n",
              "      </script>\n",
              "    </div>\n",
              "  </div>\n",
              "  "
            ]
          },
          "metadata": {},
          "execution_count": 2
        }
      ]
    },
    {
      "cell_type": "code",
      "source": [
        "utilidad = np.array([1500, 2500])\n",
        "A = np.array([[5,7],\n",
        "              [8,0],\n",
        "              [2,3],\n",
        "              [0,12]])\n",
        "B = np.array([100000,25000,50000,12000])\n",
        "dem_1 = 480\n",
        "dem_2 = 590\n",
        "lim = [(dem_1, None),\n",
        "       (dem_2, None)]\n",
        "ans = linprog(-utilidad, A_ub=A, b_ub=B, bounds=lim, method=\"revised simplex\")\n",
        "ans.x"
      ],
      "metadata": {
        "colab": {
          "base_uri": "https://localhost:8080/"
        },
        "id": "f_fkeFYGc3yf",
        "outputId": "e354ebdb-6ed1-44d3-94e7-d05470568fd1"
      },
      "execution_count": 3,
      "outputs": [
        {
          "output_type": "stream",
          "name": "stderr",
          "text": [
            "<ipython-input-3-16b3f3a08b19>:11: DeprecationWarning: `method='revised simplex'` is deprecated and will be removed in SciPy 1.11.0. Please use one of the HiGHS solvers (e.g. `method='highs'`) in new code.\n",
            "  ans = linprog(-utilidad, A_ub=A, b_ub=B, bounds=lim, method=\"revised simplex\")\n"
          ]
        },
        {
          "output_type": "execute_result",
          "data": {
            "text/plain": [
              "array([3125., 1000.])"
            ]
          },
          "metadata": {},
          "execution_count": 3
        }
      ]
    },
    {
      "cell_type": "markdown",
      "source": [
        "**La producción optima opara satisfacer la demanda de 480 galletas de chocolate y 590 galletas de cereza es de 3125 y 1000.**\n"
      ],
      "metadata": {
        "id": "bV81s6CJhDig"
      }
    },
    {
      "cell_type": "code",
      "source": [
        "Uti_cho = 3125*1500\n",
        "Uti_cho"
      ],
      "metadata": {
        "colab": {
          "base_uri": "https://localhost:8080/"
        },
        "id": "ODfiOJ8r4rVa",
        "outputId": "10d5a87b-3a4b-44dd-8663-7f815212efe2"
      },
      "execution_count": 4,
      "outputs": [
        {
          "output_type": "execute_result",
          "data": {
            "text/plain": [
              "4687500"
            ]
          },
          "metadata": {},
          "execution_count": 4
        }
      ]
    },
    {
      "cell_type": "code",
      "source": [
        "Uti_cer = 1000*2500\n",
        "Uti_cer"
      ],
      "metadata": {
        "colab": {
          "base_uri": "https://localhost:8080/"
        },
        "id": "jXi8rY2M4_Gl",
        "outputId": "393e4bca-1933-43d0-a4aa-f7b4f1d42bbc"
      },
      "execution_count": 5,
      "outputs": [
        {
          "output_type": "execute_result",
          "data": {
            "text/plain": [
              "2500000"
            ]
          },
          "metadata": {},
          "execution_count": 5
        }
      ]
    },
    {
      "cell_type": "code",
      "source": [
        "Uti_fnl = Uti_cer+Uti_cho\n",
        "Uti_fnl"
      ],
      "metadata": {
        "colab": {
          "base_uri": "https://localhost:8080/"
        },
        "id": "reE5fmMy6SA-",
        "outputId": "cc6fba1e-d4e3-4a37-fc72-2fa74bdcbda7"
      },
      "execution_count": 6,
      "outputs": [
        {
          "output_type": "execute_result",
          "data": {
            "text/plain": [
              "7187500"
            ]
          },
          "metadata": {},
          "execution_count": 6
        }
      ]
    },
    {
      "cell_type": "markdown",
      "source": [
        "\n",
        "Basado en los resultados de la producción optima y las utilidades por unidades producidas, se llegó al dato de utilidad neta de galletas de chcolate, \\$4.687.500, y de galletas de cereza, \\$2.500.000, dando como resultado final de utlidades \\$7.187.500. "
      ],
      "metadata": {
        "id": "DS78fwUT1ud0"
      }
    },
    {
      "cell_type": "code",
      "source": [
        "# Simulación\n",
        "sigma_dem1 = 50\n",
        "sim_a = np.random.normal(dem_1,sigma_dem1, 10000)\n",
        "plt.hist(sim_a, bins= 'sturges'); "
      ],
      "metadata": {
        "colab": {
          "base_uri": "https://localhost:8080/",
          "height": 430
        },
        "id": "2SjnB-Ug86Nd",
        "outputId": "198c4d47-0313-4438-d7da-872217bd0bf0"
      },
      "execution_count": 7,
      "outputs": [
        {
          "output_type": "display_data",
          "data": {
            "text/plain": [
              "<Figure size 640x480 with 1 Axes>"
            ],
            "image/png": "[encoded data removed]"
          },
          "metadata": {}
        }
      ]
    },
    {
      "cell_type": "code",
      "source": [
        "sim_a[4]"
      ],
      "metadata": {
        "colab": {
          "base_uri": "https://localhost:8080/"
        },
        "id": "eriw5EeBEGbM",
        "outputId": "a1716509-6341-4adc-ef6b-e19e08181c48"
      },
      "execution_count": 8,
      "outputs": [
        {
          "output_type": "execute_result",
          "data": {
            "text/plain": [
              "488.2268997760231"
            ]
          },
          "metadata": {},
          "execution_count": 8
        }
      ]
    },
    {
      "cell_type": "code",
      "source": [
        "# Simulación\n",
        "sigma_dem2 = 35\n",
        "sim_b = np.random.normal(dem_2,sigma_dem2, 10000)\n",
        "plt.hist(sim_b, bins= 'sturges'); "
      ],
      "metadata": {
        "colab": {
          "base_uri": "https://localhost:8080/",
          "height": 430
        },
        "id": "xJrM_2Tj-Wme",
        "outputId": "abd5f6d4-a857-4460-abf0-131b94647692"
      },
      "execution_count": 9,
      "outputs": [
        {
          "output_type": "display_data",
          "data": {
            "text/plain": [
              "<Figure size 640x480 with 1 Axes>"
            ],
            "image/png": "[encoded data removed]"
          },
          "metadata": {}
        }
      ]
    },
    {
      "cell_type": "code",
      "source": [
        "sim_a[:-1]"
      ],
      "metadata": {
        "colab": {
          "base_uri": "https://localhost:8080/"
        },
        "id": "KEupoqAMHV--",
        "outputId": "19689569-8229-4602-d9b0-84507c382013"
      },
      "execution_count": 10,
      "outputs": [
        {
          "output_type": "execute_result",
          "data": {
            "text/plain": [
              "array([465.57571935, 525.59865392, 432.55999915, ..., 512.45605047,\n",
              "       476.08313119, 559.99622703])"
            ]
          },
          "metadata": {},
          "execution_count": 10
        }
      ]
    },
    {
      "cell_type": "code",
      "source": [
        "dem = np.zeros((10000,2))\n",
        "for i in range(10000):\n",
        "  utilidad = np.array([1500, 2500])\n",
        "  A = np.array([[5,7],\n",
        "              [8,0],\n",
        "              [2,3],\n",
        "              [0,12]])\n",
        "  B = np.array([100000,25000,50000,12000])\n",
        "  dem_1 = sim_a[i]\n",
        "  dem_2 = sim_b[i]\n",
        "  lim = [(dem_1, None),\n",
        "        (dem_2, None)]\n",
        "  ans = linprog(-utilidad, A_ub=A, b_ub=B, bounds=lim, method=\"revised simplex\")\n",
        "  dem[i:] = ans.x\n",
        "  dem"
      ],
      "metadata": {
        "colab": {
          "base_uri": "https://localhost:8080/"
        },
        "id": "WVnu8QeABH2o",
        "outputId": "5ccd4f77-5b7c-4c5c-b867-87fea5027b37"
      },
      "execution_count": 11,
      "outputs": [
        {
          "output_type": "stream",
          "name": "stderr",
          "text": [
            "<ipython-input-11-1dc3a1e55399>:13: DeprecationWarning: `method='revised simplex'` is deprecated and will be removed in SciPy 1.11.0. Please use one of the HiGHS solvers (e.g. `method='highs'`) in new code.\n",
            "  ans = linprog(-utilidad, A_ub=A, b_ub=B, bounds=lim, method=\"revised simplex\")\n"
          ]
        }
      ]
    },
    {
      "cell_type": "code",
      "source": [
        "dem"
      ],
      "metadata": {
        "colab": {
          "base_uri": "https://localhost:8080/"
        },
        "id": "93HierZjNg6U",
        "outputId": "97e936d2-3e52-4635-ca75-75bfa0c75862"
      },
      "execution_count": 12,
      "outputs": [
        {
          "output_type": "execute_result",
          "data": {
            "text/plain": [
              "array([[3125., 1000.],\n",
              "       [3125., 1000.],\n",
              "       [3125., 1000.],\n",
              "       ...,\n",
              "       [3125., 1000.],\n",
              "       [3125., 1000.],\n",
              "       [3125., 1000.]])"
            ]
          },
          "metadata": {},
          "execution_count": 12
        }
      ]
    },
    {
      "cell_type": "markdown",
      "source": [
        "**Conclusión**\n",
        "\n",
        "Teniendo en cuenta el procedimiento de simulación con 10.000 iteraciones, se llegó a la conclusión que la producción siempre va a satisfacer la demanda bajo los mismos niveles de producción, 3.125 galletas de chocolate y 1.000 galletas de cereza. Esto se debe a que el rango de los valores iterados siempre se encuentran por debajo de los niveles de produccón.\n",
        "\n",
        "**Consideraciones**\n",
        "\n",
        "Para llegar a un resultado más acertado, se recomienda cambiar la variable dependiente, demanda, por la utilidad, de esta manera la producción cambiara en las simulaciones en función a la utilidad."
      ],
      "metadata": {
        "id": "hhHMz9bxQCDp"
      }
    }
  ]
}