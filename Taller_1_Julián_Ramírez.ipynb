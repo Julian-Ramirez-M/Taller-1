{
  "nbformat": 4,
  "nbformat_minor": 0,
  "metadata": {
    "colab": {
      "provenance": [],
      "authorship_tag": "ABX9TyNl/r7kZtWjcHKSWbsNUFS5",
      "include_colab_link": true
    },
    "kernelspec": {
      "name": "python3",
      "display_name": "Python 3"
    },
    "language_info": {
      "name": "python"
    }
  },
  "cells": [
    {
      "cell_type": "markdown",
      "metadata": {
        "id": "view-in-github",
        "colab_type": "text"
      },
      "source": [
        "<a href=\"https://colab.research.google.com/github/Julian-Ramirez-M/Talleres/blob/main/Taller_1_Juli%C3%A1n_Ram%C3%ADrez.ipynb\" target=\"_parent\"><img src=\"https://colab.research.google.com/assets/colab-badge.svg\" alt=\"Open In Colab\"/></a>"
      ]
    },
    {
      "cell_type": "code",
      "execution_count": 1,
      "metadata": {
        "id": "tg4xHtVVIn3G",
        "colab": {
          "base_uri": "https://localhost:8080/"
        },
        "outputId": "5c2b4ac6-0e07-4a80-bb78-c9532fd5e6f6"
      },
      "outputs": [
        {
          "output_type": "stream",
          "name": "stdout",
          "text": [
            "\u001b[2K     \u001b[90m━━━━━━━━━━━━━━━━━━━━━━━━━━━━━━━━━━━━━━━━\u001b[0m \u001b[32m59.2/59.2 KB\u001b[0m \u001b[31m2.4 MB/s\u001b[0m eta \u001b[36m0:00:00\u001b[0m\n",
            "\u001b[2K     \u001b[90m━━━━━━━━━━━━━━━━━━━━━━━━━━━━━━━━━━━━━━━━\u001b[0m \u001b[32m4.2/4.2 MB\u001b[0m \u001b[31m55.6 MB/s\u001b[0m eta \u001b[36m0:00:00\u001b[0m\n",
            "\u001b[2K     \u001b[90m━━━━━━━━━━━━━━━━━━━━━━━━━━━━━━━━━━━━━━━\u001b[0m \u001b[32m112.2/112.2 KB\u001b[0m \u001b[31m7.8 MB/s\u001b[0m eta \u001b[36m0:00:00\u001b[0m\n",
            "\u001b[2K     \u001b[90m━━━━━━━━━━━━━━━━━━━━━━━━━━━━━━━━━━━━━━━━\u001b[0m \u001b[32m62.8/62.8 KB\u001b[0m \u001b[31m3.2 MB/s\u001b[0m eta \u001b[36m0:00:00\u001b[0m\n",
            "\u001b[2K     \u001b[90m━━━━━━━━━━━━━━━━━━━━━━━━━━━━━━━━━━━━━━━\u001b[0m \u001b[32m111.0/111.0 KB\u001b[0m \u001b[31m6.1 MB/s\u001b[0m eta \u001b[36m0:00:00\u001b[0m\n",
            "\u001b[2K     \u001b[90m━━━━━━━━━━━━━━━━━━━━━━━━━━━━━━━━━━━━━━━\u001b[0m \u001b[32m129.4/129.4 KB\u001b[0m \u001b[31m4.3 MB/s\u001b[0m eta \u001b[36m0:00:00\u001b[0m\n",
            "\u001b[?25h"
          ]
        }
      ],
      "source": [
        "import numpy as np\n",
        "import pandas as pd\n",
        "import seaborn as sns\n",
        "from scipy.stats import norm\n",
        "import pandas_datareader.data as pdr\n",
        "import matplotlib.pyplot as plt\n",
        "import warnings\n",
        "from numpy.core.fromnumeric import sort\n",
        "from scipy import stats \n",
        "warnings.filterwarnings(\"ignore\")\n",
        "!pip install --quiet yfinance\n",
        "import yfinance as yf"
      ]
    },
    {
      "cell_type": "markdown",
      "source": [
        "**PUNTO 1**"
      ],
      "metadata": {
        "id": "4h0DGnvChl68"
      }
    },
    {
      "cell_type": "code",
      "source": [
        "yf.pdr_override()"
      ],
      "metadata": {
        "id": "xDw7ozqoI9zO"
      },
      "execution_count": 2,
      "outputs": []
    },
    {
      "cell_type": "code",
      "source": [
        "activos = [\"DIS\", \"HSY\"]\n",
        "precios_d = pdr.get_data_yahoo(activos,start=\"2021-01-01\",end=\"2022-12-31\")[\"Adj Close\"]\n",
        "precios_d\n",
        "precios_m = pdr.get_data_yahoo(activos,start=\"2021-01-01\",end=\"2022-12-31\", interval=\"1mo\")[\"Adj Close\"]\n",
        "precios_m\n"
      ],
      "metadata": {
        "colab": {
          "base_uri": "https://localhost:8080/",
          "height": 868
        },
        "id": "OG_iiiJbKoFt",
        "outputId": "3b32d096-f2a5-4ded-c2e9-0dea7dd9ec61"
      },
      "execution_count": 3,
      "outputs": [
        {
          "output_type": "stream",
          "name": "stdout",
          "text": [
            "[*********************100%***********************]  2 of 2 completed\n",
            "[*********************100%***********************]  2 of 2 completed\n"
          ]
        },
        {
          "output_type": "execute_result",
          "data": {
            "text/plain": [
              "                   DIS         HSY\n",
              "Date                              \n",
              "2021-01-01  168.169998  140.011658\n",
              "2021-02-01  189.039993  140.213806\n",
              "2021-03-01  184.520004  153.070374\n",
              "2021-04-01  186.020004  159.012756\n",
              "2021-05-01  178.649994  167.481186\n",
              "2021-06-01  175.770004  169.365219\n",
              "2021-07-01  176.020004  173.935303\n",
              "2021-08-01  181.300003  172.787918\n",
              "2021-09-01  169.169998  165.401688\n",
              "2021-10-01  169.070007  171.362991\n",
              "2021-11-01  144.899994  173.454315\n",
              "2021-12-01  154.889999  190.025879\n",
              "2022-01-01  142.970001  193.561798\n",
              "2022-02-01  148.460007  198.659393\n",
              "2022-03-01  137.160004  213.723846\n",
              "2022-04-01  111.629997  222.741211\n",
              "2022-05-01  110.440002  208.869843\n",
              "2022-06-01   94.400002  213.198456\n",
              "2022-07-01  106.099998  225.881760\n",
              "2022-08-01  112.080002  222.621750\n",
              "2022-09-01   94.330002  219.446442\n",
              "2022-10-01  106.540001  237.661484\n",
              "2022-11-01   97.870003  234.078201\n",
              "2022-12-01   86.879997  231.570007"
            ],
            "text/html": [
              "\n",
              "  <div id=\"df-155f14e9-cd9e-43f5-a00f-0c85795024a2\">\n",
              "    <div class=\"colab-df-container\">\n",
              "      <div>\n",
              "<style scoped>\n",
              "    .dataframe tbody tr th:only-of-type {\n",
              "        vertical-align: middle;\n",
              "    }\n",
              "\n",
              "    .dataframe tbody tr th {\n",
              "        vertical-align: top;\n",
              "    }\n",
              "\n",
              "    .dataframe thead th {\n",
              "        text-align: right;\n",
              "    }\n",
              "</style>\n",
              "<table border=\"1\" class=\"dataframe\">\n",
              "  <thead>\n",
              "    <tr style=\"text-align: right;\">\n",
              "      <th></th>\n",
              "      <th>DIS</th>\n",
              "      <th>HSY</th>\n",
              "    </tr>\n",
              "    <tr>\n",
              "      <th>Date</th>\n",
              "      <th></th>\n",
              "      <th></th>\n",
              "    </tr>\n",
              "  </thead>\n",
              "  <tbody>\n",
              "    <tr>\n",
              "      <th>2021-01-01</th>\n",
              "      <td>168.169998</td>\n",
              "      <td>140.011658</td>\n",
              "    </tr>\n",
              "    <tr>\n",
              "      <th>2021-02-01</th>\n",
              "      <td>189.039993</td>\n",
              "      <td>140.213806</td>\n",
              "    </tr>\n",
              "    <tr>\n",
              "      <th>2021-03-01</th>\n",
              "      <td>184.520004</td>\n",
              "      <td>153.070374</td>\n",
              "    </tr>\n",
              "    <tr>\n",
              "      <th>2021-04-01</th>\n",
              "      <td>186.020004</td>\n",
              "      <td>159.012756</td>\n",
              "    </tr>\n",
              "    <tr>\n",
              "      <th>2021-05-01</th>\n",
              "      <td>178.649994</td>\n",
              "      <td>167.481186</td>\n",
              "    </tr>\n",
              "    <tr>\n",
              "      <th>2021-06-01</th>\n",
              "      <td>175.770004</td>\n",
              "      <td>169.365219</td>\n",
              "    </tr>\n",
              "    <tr>\n",
              "      <th>2021-07-01</th>\n",
              "      <td>176.020004</td>\n",
              "      <td>173.935303</td>\n",
              "    </tr>\n",
              "    <tr>\n",
              "      <th>2021-08-01</th>\n",
              "      <td>181.300003</td>\n",
              "      <td>172.787918</td>\n",
              "    </tr>\n",
              "    <tr>\n",
              "      <th>2021-09-01</th>\n",
              "      <td>169.169998</td>\n",
              "      <td>165.401688</td>\n",
              "    </tr>\n",
              "    <tr>\n",
              "      <th>2021-10-01</th>\n",
              "      <td>169.070007</td>\n",
              "      <td>171.362991</td>\n",
              "    </tr>\n",
              "    <tr>\n",
              "      <th>2021-11-01</th>\n",
              "      <td>144.899994</td>\n",
              "      <td>173.454315</td>\n",
              "    </tr>\n",
              "    <tr>\n",
              "      <th>2021-12-01</th>\n",
              "      <td>154.889999</td>\n",
              "      <td>190.025879</td>\n",
              "    </tr>\n",
              "    <tr>\n",
              "      <th>2022-01-01</th>\n",
              "      <td>142.970001</td>\n",
              "      <td>193.561798</td>\n",
              "    </tr>\n",
              "    <tr>\n",
              "      <th>2022-02-01</th>\n",
              "      <td>148.460007</td>\n",
              "      <td>198.659393</td>\n",
              "    </tr>\n",
              "    <tr>\n",
              "      <th>2022-03-01</th>\n",
              "      <td>137.160004</td>\n",
              "      <td>213.723846</td>\n",
              "    </tr>\n",
              "    <tr>\n",
              "      <th>2022-04-01</th>\n",
              "      <td>111.629997</td>\n",
              "      <td>222.741211</td>\n",
              "    </tr>\n",
              "    <tr>\n",
              "      <th>2022-05-01</th>\n",
              "      <td>110.440002</td>\n",
              "      <td>208.869843</td>\n",
              "    </tr>\n",
              "    <tr>\n",
              "      <th>2022-06-01</th>\n",
              "      <td>94.400002</td>\n",
              "      <td>213.198456</td>\n",
              "    </tr>\n",
              "    <tr>\n",
              "      <th>2022-07-01</th>\n",
              "      <td>106.099998</td>\n",
              "      <td>225.881760</td>\n",
              "    </tr>\n",
              "    <tr>\n",
              "      <th>2022-08-01</th>\n",
              "      <td>112.080002</td>\n",
              "      <td>222.621750</td>\n",
              "    </tr>\n",
              "    <tr>\n",
              "      <th>2022-09-01</th>\n",
              "      <td>94.330002</td>\n",
              "      <td>219.446442</td>\n",
              "    </tr>\n",
              "    <tr>\n",
              "      <th>2022-10-01</th>\n",
              "      <td>106.540001</td>\n",
              "      <td>237.661484</td>\n",
              "    </tr>\n",
              "    <tr>\n",
              "      <th>2022-11-01</th>\n",
              "      <td>97.870003</td>\n",
              "      <td>234.078201</td>\n",
              "    </tr>\n",
              "    <tr>\n",
              "      <th>2022-12-01</th>\n",
              "      <td>86.879997</td>\n",
              "      <td>231.570007</td>\n",
              "    </tr>\n",
              "  </tbody>\n",
              "</table>\n",
              "</div>\n",
              "      <button class=\"colab-df-convert\" onclick=\"convertToInteractive('df-155f14e9-cd9e-43f5-a00f-0c85795024a2')\"\n",
              "              title=\"Convert this dataframe to an interactive table.\"\n",
              "              style=\"display:none;\">\n",
              "        \n",
              "  <svg xmlns=\"http://www.w3.org/2000/svg\" height=\"24px\"viewBox=\"0 0 24 24\"\n",
              "       width=\"24px\">\n",
              "    <path d=\"M0 0h24v24H0V0z\" fill=\"none\"/>\n",
              "    <path d=\"M18.56 5.44l.94 2.06.94-2.06 2.06-.94-2.06-.94-.94-2.06-.94 2.06-2.06.94zm-11 1L8.5 8.5l.94-2.06 2.06-.94-2.06-.94L8.5 2.5l-.94 2.06-2.06.94zm10 10l.94 2.06.94-2.06 2.06-.94-2.06-.94-.94-2.06-.94 2.06-2.06.94z\"/><path d=\"M17.41 7.96l-1.37-1.37c-.4-.4-.92-.59-1.43-.59-.52 0-1.04.2-1.43.59L10.3 9.45l-7.72 7.72c-.78.78-.78 2.05 0 2.83L4 21.41c.39.39.9.59 1.41.59.51 0 1.02-.2 1.41-.59l7.78-7.78 2.81-2.81c.8-.78.8-2.07 0-2.86zM5.41 20L4 18.59l7.72-7.72 1.47 1.35L5.41 20z\"/>\n",
              "  </svg>\n",
              "      </button>\n",
              "      \n",
              "  <style>\n",
              "    .colab-df-container {\n",
              "      display:flex;\n",
              "      flex-wrap:wrap;\n",
              "      gap: 12px;\n",
              "    }\n",
              "\n",
              "    .colab-df-convert {\n",
              "      background-color: #E8F0FE;\n",
              "      border: none;\n",
              "      border-radius: 50%;\n",
              "      cursor: pointer;\n",
              "      display: none;\n",
              "      fill: #1967D2;\n",
              "      height: 32px;\n",
              "      padding: 0 0 0 0;\n",
              "      width: 32px;\n",
              "    }\n",
              "\n",
              "    .colab-df-convert:hover {\n",
              "      background-color: #E2EBFA;\n",
              "      box-shadow: 0px 1px 2px rgba(60, 64, 67, 0.3), 0px 1px 3px 1px rgba(60, 64, 67, 0.15);\n",
              "      fill: #174EA6;\n",
              "    }\n",
              "\n",
              "    [theme=dark] .colab-df-convert {\n",
              "      background-color: #3B4455;\n",
              "      fill: #D2E3FC;\n",
              "    }\n",
              "\n",
              "    [theme=dark] .colab-df-convert:hover {\n",
              "      background-color: #434B5C;\n",
              "      box-shadow: 0px 1px 3px 1px rgba(0, 0, 0, 0.15);\n",
              "      filter: drop-shadow(0px 1px 2px rgba(0, 0, 0, 0.3));\n",
              "      fill: #FFFFFF;\n",
              "    }\n",
              "  </style>\n",
              "\n",
              "      <script>\n",
              "        const buttonEl =\n",
              "          document.querySelector('#df-155f14e9-cd9e-43f5-a00f-0c85795024a2 button.colab-df-convert');\n",
              "        buttonEl.style.display =\n",
              "          google.colab.kernel.accessAllowed ? 'block' : 'none';\n",
              "\n",
              "        async function convertToInteractive(key) {\n",
              "          const element = document.querySelector('#df-155f14e9-cd9e-43f5-a00f-0c85795024a2');\n",
              "          const dataTable =\n",
              "            await google.colab.kernel.invokeFunction('convertToInteractive',\n",
              "                                                     [key], {});\n",
              "          if (!dataTable) return;\n",
              "\n",
              "          const docLinkHtml = 'Like what you see? Visit the ' +\n",
              "            '<a target=\"_blank\" href=https://colab.research.google.com/notebooks/data_table.ipynb>data table notebook</a>'\n",
              "            + ' to learn more about interactive tables.';\n",
              "          element.innerHTML = '';\n",
              "          dataTable['output_type'] = 'display_data';\n",
              "          await google.colab.output.renderOutput(dataTable, element);\n",
              "          const docLink = document.createElement('div');\n",
              "          docLink.innerHTML = docLinkHtml;\n",
              "          element.appendChild(docLink);\n",
              "        }\n",
              "      </script>\n",
              "    </div>\n",
              "  </div>\n",
              "  "
            ]
          },
          "metadata": {},
          "execution_count": 3
        }
      ]
    },
    {
      "cell_type": "markdown",
      "source": [
        "**Calcule los retornos logarítmicos diarios, mensuales y anualizados. Presente los resultados en una tabla**"
      ],
      "metadata": {
        "id": "fZg76X4ahAKZ"
      }
    },
    {
      "cell_type": "code",
      "source": [
        "retornos_d = np.log(precios_d/precios_d.shift()).dropna();\n",
        "retornos_m = np.log(precios_m/precios_m.shift()).dropna();\n",
        "retornos_a = np.log(precios_d/precios_d.shift(502)).dropna();\n"
      ],
      "metadata": {
        "id": "R333DTQULeYG"
      },
      "execution_count": 4,
      "outputs": []
    },
    {
      "cell_type": "code",
      "source": [
        "retornos_d"
      ],
      "metadata": {
        "colab": {
          "base_uri": "https://localhost:8080/",
          "height": 454
        },
        "id": "rBtPIR9wPIXu",
        "outputId": "9aa551ae-216a-425e-90f9-c2b68dd6a784"
      },
      "execution_count": 5,
      "outputs": [
        {
          "output_type": "execute_result",
          "data": {
            "text/plain": [
              "                 DIS       HSY\n",
              "Date                          \n",
              "2021-01-05  0.004268 -0.001127\n",
              "2021-01-06  0.003804  0.003510\n",
              "2021-01-07 -0.003019 -0.000595\n",
              "2021-01-08  0.000616  0.005673\n",
              "2021-01-11  0.002236 -0.012710\n",
              "...              ...       ...\n",
              "2022-12-23  0.015343  0.004036\n",
              "2022-12-27 -0.018810 -0.000636\n",
              "2022-12-28 -0.025802 -0.012207\n",
              "2022-12-29  0.035136  0.001631\n",
              "2022-12-30 -0.003447 -0.007229\n",
              "\n",
              "[502 rows x 2 columns]"
            ],
            "text/html": [
              "\n",
              "  <div id=\"df-820b3c33-3bee-4b0e-840d-e32e1e5be999\">\n",
              "    <div class=\"colab-df-container\">\n",
              "      <div>\n",
              "<style scoped>\n",
              "    .dataframe tbody tr th:only-of-type {\n",
              "        vertical-align: middle;\n",
              "    }\n",
              "\n",
              "    .dataframe tbody tr th {\n",
              "        vertical-align: top;\n",
              "    }\n",
              "\n",
              "    .dataframe thead th {\n",
              "        text-align: right;\n",
              "    }\n",
              "</style>\n",
              "<table border=\"1\" class=\"dataframe\">\n",
              "  <thead>\n",
              "    <tr style=\"text-align: right;\">\n",
              "      <th></th>\n",
              "      <th>DIS</th>\n",
              "      <th>HSY</th>\n",
              "    </tr>\n",
              "    <tr>\n",
              "      <th>Date</th>\n",
              "      <th></th>\n",
              "      <th></th>\n",
              "    </tr>\n",
              "  </thead>\n",
              "  <tbody>\n",
              "    <tr>\n",
              "      <th>2021-01-05</th>\n",
              "      <td>0.004268</td>\n",
              "      <td>-0.001127</td>\n",
              "    </tr>\n",
              "    <tr>\n",
              "      <th>2021-01-06</th>\n",
              "      <td>0.003804</td>\n",
              "      <td>0.003510</td>\n",
              "    </tr>\n",
              "    <tr>\n",
              "      <th>2021-01-07</th>\n",
              "      <td>-0.003019</td>\n",
              "      <td>-0.000595</td>\n",
              "    </tr>\n",
              "    <tr>\n",
              "      <th>2021-01-08</th>\n",
              "      <td>0.000616</td>\n",
              "      <td>0.005673</td>\n",
              "    </tr>\n",
              "    <tr>\n",
              "      <th>2021-01-11</th>\n",
              "      <td>0.002236</td>\n",
              "      <td>-0.012710</td>\n",
              "    </tr>\n",
              "    <tr>\n",
              "      <th>...</th>\n",
              "      <td>...</td>\n",
              "      <td>...</td>\n",
              "    </tr>\n",
              "    <tr>\n",
              "      <th>2022-12-23</th>\n",
              "      <td>0.015343</td>\n",
              "      <td>0.004036</td>\n",
              "    </tr>\n",
              "    <tr>\n",
              "      <th>2022-12-27</th>\n",
              "      <td>-0.018810</td>\n",
              "      <td>-0.000636</td>\n",
              "    </tr>\n",
              "    <tr>\n",
              "      <th>2022-12-28</th>\n",
              "      <td>-0.025802</td>\n",
              "      <td>-0.012207</td>\n",
              "    </tr>\n",
              "    <tr>\n",
              "      <th>2022-12-29</th>\n",
              "      <td>0.035136</td>\n",
              "      <td>0.001631</td>\n",
              "    </tr>\n",
              "    <tr>\n",
              "      <th>2022-12-30</th>\n",
              "      <td>-0.003447</td>\n",
              "      <td>-0.007229</td>\n",
              "    </tr>\n",
              "  </tbody>\n",
              "</table>\n",
              "<p>502 rows × 2 columns</p>\n",
              "</div>\n",
              "      <button class=\"colab-df-convert\" onclick=\"convertToInteractive('df-820b3c33-3bee-4b0e-840d-e32e1e5be999')\"\n",
              "              title=\"Convert this dataframe to an interactive table.\"\n",
              "              style=\"display:none;\">\n",
              "        \n",
              "  <svg xmlns=\"http://www.w3.org/2000/svg\" height=\"24px\"viewBox=\"0 0 24 24\"\n",
              "       width=\"24px\">\n",
              "    <path d=\"M0 0h24v24H0V0z\" fill=\"none\"/>\n",
              "    <path d=\"M18.56 5.44l.94 2.06.94-2.06 2.06-.94-2.06-.94-.94-2.06-.94 2.06-2.06.94zm-11 1L8.5 8.5l.94-2.06 2.06-.94-2.06-.94L8.5 2.5l-.94 2.06-2.06.94zm10 10l.94 2.06.94-2.06 2.06-.94-2.06-.94-.94-2.06-.94 2.06-2.06.94z\"/><path d=\"M17.41 7.96l-1.37-1.37c-.4-.4-.92-.59-1.43-.59-.52 0-1.04.2-1.43.59L10.3 9.45l-7.72 7.72c-.78.78-.78 2.05 0 2.83L4 21.41c.39.39.9.59 1.41.59.51 0 1.02-.2 1.41-.59l7.78-7.78 2.81-2.81c.8-.78.8-2.07 0-2.86zM5.41 20L4 18.59l7.72-7.72 1.47 1.35L5.41 20z\"/>\n",
              "  </svg>\n",
              "      </button>\n",
              "      \n",
              "  <style>\n",
              "    .colab-df-container {\n",
              "      display:flex;\n",
              "      flex-wrap:wrap;\n",
              "      gap: 12px;\n",
              "    }\n",
              "\n",
              "    .colab-df-convert {\n",
              "      background-color: #E8F0FE;\n",
              "      border: none;\n",
              "      border-radius: 50%;\n",
              "      cursor: pointer;\n",
              "      display: none;\n",
              "      fill: #1967D2;\n",
              "      height: 32px;\n",
              "      padding: 0 0 0 0;\n",
              "      width: 32px;\n",
              "    }\n",
              "\n",
              "    .colab-df-convert:hover {\n",
              "      background-color: #E2EBFA;\n",
              "      box-shadow: 0px 1px 2px rgba(60, 64, 67, 0.3), 0px 1px 3px 1px rgba(60, 64, 67, 0.15);\n",
              "      fill: #174EA6;\n",
              "    }\n",
              "\n",
              "    [theme=dark] .colab-df-convert {\n",
              "      background-color: #3B4455;\n",
              "      fill: #D2E3FC;\n",
              "    }\n",
              "\n",
              "    [theme=dark] .colab-df-convert:hover {\n",
              "      background-color: #434B5C;\n",
              "      box-shadow: 0px 1px 3px 1px rgba(0, 0, 0, 0.15);\n",
              "      filter: drop-shadow(0px 1px 2px rgba(0, 0, 0, 0.3));\n",
              "      fill: #FFFFFF;\n",
              "    }\n",
              "  </style>\n",
              "\n",
              "      <script>\n",
              "        const buttonEl =\n",
              "          document.querySelector('#df-820b3c33-3bee-4b0e-840d-e32e1e5be999 button.colab-df-convert');\n",
              "        buttonEl.style.display =\n",
              "          google.colab.kernel.accessAllowed ? 'block' : 'none';\n",
              "\n",
              "        async function convertToInteractive(key) {\n",
              "          const element = document.querySelector('#df-820b3c33-3bee-4b0e-840d-e32e1e5be999');\n",
              "          const dataTable =\n",
              "            await google.colab.kernel.invokeFunction('convertToInteractive',\n",
              "                                                     [key], {});\n",
              "          if (!dataTable) return;\n",
              "\n",
              "          const docLinkHtml = 'Like what you see? Visit the ' +\n",
              "            '<a target=\"_blank\" href=https://colab.research.google.com/notebooks/data_table.ipynb>data table notebook</a>'\n",
              "            + ' to learn more about interactive tables.';\n",
              "          element.innerHTML = '';\n",
              "          dataTable['output_type'] = 'display_data';\n",
              "          await google.colab.output.renderOutput(dataTable, element);\n",
              "          const docLink = document.createElement('div');\n",
              "          docLink.innerHTML = docLinkHtml;\n",
              "          element.appendChild(docLink);\n",
              "        }\n",
              "      </script>\n",
              "    </div>\n",
              "  </div>\n",
              "  "
            ]
          },
          "metadata": {},
          "execution_count": 5
        }
      ]
    },
    {
      "cell_type": "code",
      "source": [
        "retornos_m"
      ],
      "metadata": {
        "colab": {
          "base_uri": "https://localhost:8080/",
          "height": 801
        },
        "id": "7yX6IIIIPiS9",
        "outputId": "9b54dd56-d362-4518-d032-1bfcb70f5c68"
      },
      "execution_count": 6,
      "outputs": [
        {
          "output_type": "execute_result",
          "data": {
            "text/plain": [
              "                 DIS       HSY\n",
              "Date                          \n",
              "2021-02-01  0.116983  0.001443\n",
              "2021-03-01 -0.024201  0.087729\n",
              "2021-04-01  0.008096  0.038087\n",
              "2021-05-01 -0.040426  0.051887\n",
              "2021-06-01 -0.016252  0.011186\n",
              "2021-07-01  0.001421  0.026626\n",
              "2021-08-01  0.029555 -0.006618\n",
              "2021-09-01 -0.069249 -0.043688\n",
              "2021-10-01 -0.000591  0.035407\n",
              "2021-11-01 -0.154269  0.012130\n",
              "2021-12-01  0.066671  0.091246\n",
              "2022-01-01 -0.080080  0.018437\n",
              "2022-02-01  0.037681  0.025995\n",
              "2022-03-01 -0.079167  0.073093\n",
              "2022-04-01 -0.205958  0.041326\n",
              "2022-05-01 -0.010717 -0.064299\n",
              "2022-06-01 -0.156931  0.020512\n",
              "2022-07-01  0.116841  0.057788\n",
              "2022-08-01  0.054831 -0.014538\n",
              "2022-09-01 -0.172414 -0.014366\n",
              "2022-10-01  0.121721  0.079739\n",
              "2022-11-01 -0.084880 -0.015192\n",
              "2022-12-01 -0.119112 -0.010773"
            ],
            "text/html": [
              "\n",
              "  <div id=\"df-e53fc756-9a2d-4537-9bbe-248ea3a0b114\">\n",
              "    <div class=\"colab-df-container\">\n",
              "      <div>\n",
              "<style scoped>\n",
              "    .dataframe tbody tr th:only-of-type {\n",
              "        vertical-align: middle;\n",
              "    }\n",
              "\n",
              "    .dataframe tbody tr th {\n",
              "        vertical-align: top;\n",
              "    }\n",
              "\n",
              "    .dataframe thead th {\n",
              "        text-align: right;\n",
              "    }\n",
              "</style>\n",
              "<table border=\"1\" class=\"dataframe\">\n",
              "  <thead>\n",
              "    <tr style=\"text-align: right;\">\n",
              "      <th></th>\n",
              "      <th>DIS</th>\n",
              "      <th>HSY</th>\n",
              "    </tr>\n",
              "    <tr>\n",
              "      <th>Date</th>\n",
              "      <th></th>\n",
              "      <th></th>\n",
              "    </tr>\n",
              "  </thead>\n",
              "  <tbody>\n",
              "    <tr>\n",
              "      <th>2021-02-01</th>\n",
              "      <td>0.116983</td>\n",
              "      <td>0.001443</td>\n",
              "    </tr>\n",
              "    <tr>\n",
              "      <th>2021-03-01</th>\n",
              "      <td>-0.024201</td>\n",
              "      <td>0.087729</td>\n",
              "    </tr>\n",
              "    <tr>\n",
              "      <th>2021-04-01</th>\n",
              "      <td>0.008096</td>\n",
              "      <td>0.038087</td>\n",
              "    </tr>\n",
              "    <tr>\n",
              "      <th>2021-05-01</th>\n",
              "      <td>-0.040426</td>\n",
              "      <td>0.051887</td>\n",
              "    </tr>\n",
              "    <tr>\n",
              "      <th>2021-06-01</th>\n",
              "      <td>-0.016252</td>\n",
              "      <td>0.011186</td>\n",
              "    </tr>\n",
              "    <tr>\n",
              "      <th>2021-07-01</th>\n",
              "      <td>0.001421</td>\n",
              "      <td>0.026626</td>\n",
              "    </tr>\n",
              "    <tr>\n",
              "      <th>2021-08-01</th>\n",
              "      <td>0.029555</td>\n",
              "      <td>-0.006618</td>\n",
              "    </tr>\n",
              "    <tr>\n",
              "      <th>2021-09-01</th>\n",
              "      <td>-0.069249</td>\n",
              "      <td>-0.043688</td>\n",
              "    </tr>\n",
              "    <tr>\n",
              "      <th>2021-10-01</th>\n",
              "      <td>-0.000591</td>\n",
              "      <td>0.035407</td>\n",
              "    </tr>\n",
              "    <tr>\n",
              "      <th>2021-11-01</th>\n",
              "      <td>-0.154269</td>\n",
              "      <td>0.012130</td>\n",
              "    </tr>\n",
              "    <tr>\n",
              "      <th>2021-12-01</th>\n",
              "      <td>0.066671</td>\n",
              "      <td>0.091246</td>\n",
              "    </tr>\n",
              "    <tr>\n",
              "      <th>2022-01-01</th>\n",
              "      <td>-0.080080</td>\n",
              "      <td>0.018437</td>\n",
              "    </tr>\n",
              "    <tr>\n",
              "      <th>2022-02-01</th>\n",
              "      <td>0.037681</td>\n",
              "      <td>0.025995</td>\n",
              "    </tr>\n",
              "    <tr>\n",
              "      <th>2022-03-01</th>\n",
              "      <td>-0.079167</td>\n",
              "      <td>0.073093</td>\n",
              "    </tr>\n",
              "    <tr>\n",
              "      <th>2022-04-01</th>\n",
              "      <td>-0.205958</td>\n",
              "      <td>0.041326</td>\n",
              "    </tr>\n",
              "    <tr>\n",
              "      <th>2022-05-01</th>\n",
              "      <td>-0.010717</td>\n",
              "      <td>-0.064299</td>\n",
              "    </tr>\n",
              "    <tr>\n",
              "      <th>2022-06-01</th>\n",
              "      <td>-0.156931</td>\n",
              "      <td>0.020512</td>\n",
              "    </tr>\n",
              "    <tr>\n",
              "      <th>2022-07-01</th>\n",
              "      <td>0.116841</td>\n",
              "      <td>0.057788</td>\n",
              "    </tr>\n",
              "    <tr>\n",
              "      <th>2022-08-01</th>\n",
              "      <td>0.054831</td>\n",
              "      <td>-0.014538</td>\n",
              "    </tr>\n",
              "    <tr>\n",
              "      <th>2022-09-01</th>\n",
              "      <td>-0.172414</td>\n",
              "      <td>-0.014366</td>\n",
              "    </tr>\n",
              "    <tr>\n",
              "      <th>2022-10-01</th>\n",
              "      <td>0.121721</td>\n",
              "      <td>0.079739</td>\n",
              "    </tr>\n",
              "    <tr>\n",
              "      <th>2022-11-01</th>\n",
              "      <td>-0.084880</td>\n",
              "      <td>-0.015192</td>\n",
              "    </tr>\n",
              "    <tr>\n",
              "      <th>2022-12-01</th>\n",
              "      <td>-0.119112</td>\n",
              "      <td>-0.010773</td>\n",
              "    </tr>\n",
              "  </tbody>\n",
              "</table>\n",
              "</div>\n",
              "      <button class=\"colab-df-convert\" onclick=\"convertToInteractive('df-e53fc756-9a2d-4537-9bbe-248ea3a0b114')\"\n",
              "              title=\"Convert this dataframe to an interactive table.\"\n",
              "              style=\"display:none;\">\n",
              "        \n",
              "  <svg xmlns=\"http://www.w3.org/2000/svg\" height=\"24px\"viewBox=\"0 0 24 24\"\n",
              "       width=\"24px\">\n",
              "    <path d=\"M0 0h24v24H0V0z\" fill=\"none\"/>\n",
              "    <path d=\"M18.56 5.44l.94 2.06.94-2.06 2.06-.94-2.06-.94-.94-2.06-.94 2.06-2.06.94zm-11 1L8.5 8.5l.94-2.06 2.06-.94-2.06-.94L8.5 2.5l-.94 2.06-2.06.94zm10 10l.94 2.06.94-2.06 2.06-.94-2.06-.94-.94-2.06-.94 2.06-2.06.94z\"/><path d=\"M17.41 7.96l-1.37-1.37c-.4-.4-.92-.59-1.43-.59-.52 0-1.04.2-1.43.59L10.3 9.45l-7.72 7.72c-.78.78-.78 2.05 0 2.83L4 21.41c.39.39.9.59 1.41.59.51 0 1.02-.2 1.41-.59l7.78-7.78 2.81-2.81c.8-.78.8-2.07 0-2.86zM5.41 20L4 18.59l7.72-7.72 1.47 1.35L5.41 20z\"/>\n",
              "  </svg>\n",
              "      </button>\n",
              "      \n",
              "  <style>\n",
              "    .colab-df-container {\n",
              "      display:flex;\n",
              "      flex-wrap:wrap;\n",
              "      gap: 12px;\n",
              "    }\n",
              "\n",
              "    .colab-df-convert {\n",
              "      background-color: #E8F0FE;\n",
              "      border: none;\n",
              "      border-radius: 50%;\n",
              "      cursor: pointer;\n",
              "      display: none;\n",
              "      fill: #1967D2;\n",
              "      height: 32px;\n",
              "      padding: 0 0 0 0;\n",
              "      width: 32px;\n",
              "    }\n",
              "\n",
              "    .colab-df-convert:hover {\n",
              "      background-color: #E2EBFA;\n",
              "      box-shadow: 0px 1px 2px rgba(60, 64, 67, 0.3), 0px 1px 3px 1px rgba(60, 64, 67, 0.15);\n",
              "      fill: #174EA6;\n",
              "    }\n",
              "\n",
              "    [theme=dark] .colab-df-convert {\n",
              "      background-color: #3B4455;\n",
              "      fill: #D2E3FC;\n",
              "    }\n",
              "\n",
              "    [theme=dark] .colab-df-convert:hover {\n",
              "      background-color: #434B5C;\n",
              "      box-shadow: 0px 1px 3px 1px rgba(0, 0, 0, 0.15);\n",
              "      filter: drop-shadow(0px 1px 2px rgba(0, 0, 0, 0.3));\n",
              "      fill: #FFFFFF;\n",
              "    }\n",
              "  </style>\n",
              "\n",
              "      <script>\n",
              "        const buttonEl =\n",
              "          document.querySelector('#df-e53fc756-9a2d-4537-9bbe-248ea3a0b114 button.colab-df-convert');\n",
              "        buttonEl.style.display =\n",
              "          google.colab.kernel.accessAllowed ? 'block' : 'none';\n",
              "\n",
              "        async function convertToInteractive(key) {\n",
              "          const element = document.querySelector('#df-e53fc756-9a2d-4537-9bbe-248ea3a0b114');\n",
              "          const dataTable =\n",
              "            await google.colab.kernel.invokeFunction('convertToInteractive',\n",
              "                                                     [key], {});\n",
              "          if (!dataTable) return;\n",
              "\n",
              "          const docLinkHtml = 'Like what you see? Visit the ' +\n",
              "            '<a target=\"_blank\" href=https://colab.research.google.com/notebooks/data_table.ipynb>data table notebook</a>'\n",
              "            + ' to learn more about interactive tables.';\n",
              "          element.innerHTML = '';\n",
              "          dataTable['output_type'] = 'display_data';\n",
              "          await google.colab.output.renderOutput(dataTable, element);\n",
              "          const docLink = document.createElement('div');\n",
              "          docLink.innerHTML = docLinkHtml;\n",
              "          element.appendChild(docLink);\n",
              "        }\n",
              "      </script>\n",
              "    </div>\n",
              "  </div>\n",
              "  "
            ]
          },
          "metadata": {},
          "execution_count": 6
        }
      ]
    },
    {
      "cell_type": "code",
      "source": [
        "retornos_a"
      ],
      "metadata": {
        "colab": {
          "base_uri": "https://localhost:8080/",
          "height": 112
        },
        "id": "cMgNNq4qPlei",
        "outputId": "32cc7b57-cc35-4cde-afbe-9ab0a91677ce"
      },
      "execution_count": 7,
      "outputs": [
        {
          "output_type": "execute_result",
          "data": {
            "text/plain": [
              "                 DIS       HSY\n",
              "Date                          \n",
              "2022-12-30 -0.715456  0.466303"
            ],
            "text/html": [
              "\n",
              "  <div id=\"df-f895d5af-4125-425b-8c33-c2ae8bac2a51\">\n",
              "    <div class=\"colab-df-container\">\n",
              "      <div>\n",
              "<style scoped>\n",
              "    .dataframe tbody tr th:only-of-type {\n",
              "        vertical-align: middle;\n",
              "    }\n",
              "\n",
              "    .dataframe tbody tr th {\n",
              "        vertical-align: top;\n",
              "    }\n",
              "\n",
              "    .dataframe thead th {\n",
              "        text-align: right;\n",
              "    }\n",
              "</style>\n",
              "<table border=\"1\" class=\"dataframe\">\n",
              "  <thead>\n",
              "    <tr style=\"text-align: right;\">\n",
              "      <th></th>\n",
              "      <th>DIS</th>\n",
              "      <th>HSY</th>\n",
              "    </tr>\n",
              "    <tr>\n",
              "      <th>Date</th>\n",
              "      <th></th>\n",
              "      <th></th>\n",
              "    </tr>\n",
              "  </thead>\n",
              "  <tbody>\n",
              "    <tr>\n",
              "      <th>2022-12-30</th>\n",
              "      <td>-0.715456</td>\n",
              "      <td>0.466303</td>\n",
              "    </tr>\n",
              "  </tbody>\n",
              "</table>\n",
              "</div>\n",
              "      <button class=\"colab-df-convert\" onclick=\"convertToInteractive('df-f895d5af-4125-425b-8c33-c2ae8bac2a51')\"\n",
              "              title=\"Convert this dataframe to an interactive table.\"\n",
              "              style=\"display:none;\">\n",
              "        \n",
              "  <svg xmlns=\"http://www.w3.org/2000/svg\" height=\"24px\"viewBox=\"0 0 24 24\"\n",
              "       width=\"24px\">\n",
              "    <path d=\"M0 0h24v24H0V0z\" fill=\"none\"/>\n",
              "    <path d=\"M18.56 5.44l.94 2.06.94-2.06 2.06-.94-2.06-.94-.94-2.06-.94 2.06-2.06.94zm-11 1L8.5 8.5l.94-2.06 2.06-.94-2.06-.94L8.5 2.5l-.94 2.06-2.06.94zm10 10l.94 2.06.94-2.06 2.06-.94-2.06-.94-.94-2.06-.94 2.06-2.06.94z\"/><path d=\"M17.41 7.96l-1.37-1.37c-.4-.4-.92-.59-1.43-.59-.52 0-1.04.2-1.43.59L10.3 9.45l-7.72 7.72c-.78.78-.78 2.05 0 2.83L4 21.41c.39.39.9.59 1.41.59.51 0 1.02-.2 1.41-.59l7.78-7.78 2.81-2.81c.8-.78.8-2.07 0-2.86zM5.41 20L4 18.59l7.72-7.72 1.47 1.35L5.41 20z\"/>\n",
              "  </svg>\n",
              "      </button>\n",
              "      \n",
              "  <style>\n",
              "    .colab-df-container {\n",
              "      display:flex;\n",
              "      flex-wrap:wrap;\n",
              "      gap: 12px;\n",
              "    }\n",
              "\n",
              "    .colab-df-convert {\n",
              "      background-color: #E8F0FE;\n",
              "      border: none;\n",
              "      border-radius: 50%;\n",
              "      cursor: pointer;\n",
              "      display: none;\n",
              "      fill: #1967D2;\n",
              "      height: 32px;\n",
              "      padding: 0 0 0 0;\n",
              "      width: 32px;\n",
              "    }\n",
              "\n",
              "    .colab-df-convert:hover {\n",
              "      background-color: #E2EBFA;\n",
              "      box-shadow: 0px 1px 2px rgba(60, 64, 67, 0.3), 0px 1px 3px 1px rgba(60, 64, 67, 0.15);\n",
              "      fill: #174EA6;\n",
              "    }\n",
              "\n",
              "    [theme=dark] .colab-df-convert {\n",
              "      background-color: #3B4455;\n",
              "      fill: #D2E3FC;\n",
              "    }\n",
              "\n",
              "    [theme=dark] .colab-df-convert:hover {\n",
              "      background-color: #434B5C;\n",
              "      box-shadow: 0px 1px 3px 1px rgba(0, 0, 0, 0.15);\n",
              "      filter: drop-shadow(0px 1px 2px rgba(0, 0, 0, 0.3));\n",
              "      fill: #FFFFFF;\n",
              "    }\n",
              "  </style>\n",
              "\n",
              "      <script>\n",
              "        const buttonEl =\n",
              "          document.querySelector('#df-f895d5af-4125-425b-8c33-c2ae8bac2a51 button.colab-df-convert');\n",
              "        buttonEl.style.display =\n",
              "          google.colab.kernel.accessAllowed ? 'block' : 'none';\n",
              "\n",
              "        async function convertToInteractive(key) {\n",
              "          const element = document.querySelector('#df-f895d5af-4125-425b-8c33-c2ae8bac2a51');\n",
              "          const dataTable =\n",
              "            await google.colab.kernel.invokeFunction('convertToInteractive',\n",
              "                                                     [key], {});\n",
              "          if (!dataTable) return;\n",
              "\n",
              "          const docLinkHtml = 'Like what you see? Visit the ' +\n",
              "            '<a target=\"_blank\" href=https://colab.research.google.com/notebooks/data_table.ipynb>data table notebook</a>'\n",
              "            + ' to learn more about interactive tables.';\n",
              "          element.innerHTML = '';\n",
              "          dataTable['output_type'] = 'display_data';\n",
              "          await google.colab.output.renderOutput(dataTable, element);\n",
              "          const docLink = document.createElement('div');\n",
              "          docLink.innerHTML = docLinkHtml;\n",
              "          element.appendChild(docLink);\n",
              "        }\n",
              "      </script>\n",
              "    </div>\n",
              "  </div>\n",
              "  "
            ]
          },
          "metadata": {},
          "execution_count": 7
        }
      ]
    },
    {
      "cell_type": "markdown",
      "source": [
        "**Calcule los retornos esperados y volatilidades anualizadas.**"
      ],
      "metadata": {
        "id": "GoMvT4IChC6c"
      }
    },
    {
      "cell_type": "markdown",
      "source": [
        "Volatilidad Close to Close"
      ],
      "metadata": {
        "id": "5BgPc38UQgfS"
      }
    },
    {
      "cell_type": "code",
      "source": [
        "retornos_d.std()"
      ],
      "metadata": {
        "colab": {
          "base_uri": "https://localhost:8080/"
        },
        "id": "scApLnA8Pp4N",
        "outputId": "ccb0ef0c-d817-4c1d-9016-8b325ede8d62"
      },
      "execution_count": 8,
      "outputs": [
        {
          "output_type": "execute_result",
          "data": {
            "text/plain": [
              "DIS    0.019992\n",
              "HSY    0.011465\n",
              "dtype: float64"
            ]
          },
          "metadata": {},
          "execution_count": 8
        }
      ]
    },
    {
      "cell_type": "code",
      "source": [
        "retornos_d.mean()*np.sqrt(252)"
      ],
      "metadata": {
        "colab": {
          "base_uri": "https://localhost:8080/"
        },
        "id": "0W3b2IKYVu15",
        "outputId": "f0a1be02-313c-418a-90d7-32311b472c5d"
      },
      "execution_count": 9,
      "outputs": [
        {
          "output_type": "execute_result",
          "data": {
            "text/plain": [
              "DIS   -0.022625\n",
              "HSY    0.014746\n",
              "dtype: float64"
            ]
          },
          "metadata": {},
          "execution_count": 9
        }
      ]
    },
    {
      "cell_type": "markdown",
      "source": [
        "Volatilidad de Parkinson"
      ],
      "metadata": {
        "id": "GY41SsDYQmXH"
      }
    },
    {
      "cell_type": "code",
      "source": [
        "precios_vol = pdr.get_data_yahoo(activos,start=\"2021-01-01\",end=\"2022-12-31\")\n",
        "retorno_vol = np.log(precios_vol[\"High\"]/precios_vol[\"Low\"]).dropna()\n",
        "sigma_parki = ((1/(4*np.log(2)))*retorno_vol**2)**0.5\n",
        "sigma_parki\n"
      ],
      "metadata": {
        "colab": {
          "base_uri": "https://localhost:8080/",
          "height": 472
        },
        "id": "pP8psm6cQCK2",
        "outputId": "d341e889-5436-4d7c-d34c-becf1009c6a1"
      },
      "execution_count": 10,
      "outputs": [
        {
          "output_type": "stream",
          "name": "stdout",
          "text": [
            "[*********************100%***********************]  2 of 2 completed\n"
          ]
        },
        {
          "output_type": "execute_result",
          "data": {
            "text/plain": [
              "                 DIS       HSY\n",
              "Date                          \n",
              "2021-01-04  0.026425  0.015183\n",
              "2021-01-05  0.013948  0.008099\n",
              "2021-01-06  0.014492  0.011900\n",
              "2021-01-07  0.007962  0.008257\n",
              "2021-01-08  0.011519  0.005903\n",
              "...              ...       ...\n",
              "2022-12-23  0.015892  0.005497\n",
              "2022-12-27  0.013676  0.004372\n",
              "2022-12-28  0.018430  0.009548\n",
              "2022-12-29  0.022678  0.005493\n",
              "2022-12-30  0.013172  0.009308\n",
              "\n",
              "[503 rows x 2 columns]"
            ],
            "text/html": [
              "\n",
              "  <div id=\"df-d8647f30-0bdc-4a2e-9fc2-247a4282f3eb\">\n",
              "    <div class=\"colab-df-container\">\n",
              "      <div>\n",
              "<style scoped>\n",
              "    .dataframe tbody tr th:only-of-type {\n",
              "        vertical-align: middle;\n",
              "    }\n",
              "\n",
              "    .dataframe tbody tr th {\n",
              "        vertical-align: top;\n",
              "    }\n",
              "\n",
              "    .dataframe thead th {\n",
              "        text-align: right;\n",
              "    }\n",
              "</style>\n",
              "<table border=\"1\" class=\"dataframe\">\n",
              "  <thead>\n",
              "    <tr style=\"text-align: right;\">\n",
              "      <th></th>\n",
              "      <th>DIS</th>\n",
              "      <th>HSY</th>\n",
              "    </tr>\n",
              "    <tr>\n",
              "      <th>Date</th>\n",
              "      <th></th>\n",
              "      <th></th>\n",
              "    </tr>\n",
              "  </thead>\n",
              "  <tbody>\n",
              "    <tr>\n",
              "      <th>2021-01-04</th>\n",
              "      <td>0.026425</td>\n",
              "      <td>0.015183</td>\n",
              "    </tr>\n",
              "    <tr>\n",
              "      <th>2021-01-05</th>\n",
              "      <td>0.013948</td>\n",
              "      <td>0.008099</td>\n",
              "    </tr>\n",
              "    <tr>\n",
              "      <th>2021-01-06</th>\n",
              "      <td>0.014492</td>\n",
              "      <td>0.011900</td>\n",
              "    </tr>\n",
              "    <tr>\n",
              "      <th>2021-01-07</th>\n",
              "      <td>0.007962</td>\n",
              "      <td>0.008257</td>\n",
              "    </tr>\n",
              "    <tr>\n",
              "      <th>2021-01-08</th>\n",
              "      <td>0.011519</td>\n",
              "      <td>0.005903</td>\n",
              "    </tr>\n",
              "    <tr>\n",
              "      <th>...</th>\n",
              "      <td>...</td>\n",
              "      <td>...</td>\n",
              "    </tr>\n",
              "    <tr>\n",
              "      <th>2022-12-23</th>\n",
              "      <td>0.015892</td>\n",
              "      <td>0.005497</td>\n",
              "    </tr>\n",
              "    <tr>\n",
              "      <th>2022-12-27</th>\n",
              "      <td>0.013676</td>\n",
              "      <td>0.004372</td>\n",
              "    </tr>\n",
              "    <tr>\n",
              "      <th>2022-12-28</th>\n",
              "      <td>0.018430</td>\n",
              "      <td>0.009548</td>\n",
              "    </tr>\n",
              "    <tr>\n",
              "      <th>2022-12-29</th>\n",
              "      <td>0.022678</td>\n",
              "      <td>0.005493</td>\n",
              "    </tr>\n",
              "    <tr>\n",
              "      <th>2022-12-30</th>\n",
              "      <td>0.013172</td>\n",
              "      <td>0.009308</td>\n",
              "    </tr>\n",
              "  </tbody>\n",
              "</table>\n",
              "<p>503 rows × 2 columns</p>\n",
              "</div>\n",
              "      <button class=\"colab-df-convert\" onclick=\"convertToInteractive('df-d8647f30-0bdc-4a2e-9fc2-247a4282f3eb')\"\n",
              "              title=\"Convert this dataframe to an interactive table.\"\n",
              "              style=\"display:none;\">\n",
              "        \n",
              "  <svg xmlns=\"http://www.w3.org/2000/svg\" height=\"24px\"viewBox=\"0 0 24 24\"\n",
              "       width=\"24px\">\n",
              "    <path d=\"M0 0h24v24H0V0z\" fill=\"none\"/>\n",
              "    <path d=\"M18.56 5.44l.94 2.06.94-2.06 2.06-.94-2.06-.94-.94-2.06-.94 2.06-2.06.94zm-11 1L8.5 8.5l.94-2.06 2.06-.94-2.06-.94L8.5 2.5l-.94 2.06-2.06.94zm10 10l.94 2.06.94-2.06 2.06-.94-2.06-.94-.94-2.06-.94 2.06-2.06.94z\"/><path d=\"M17.41 7.96l-1.37-1.37c-.4-.4-.92-.59-1.43-.59-.52 0-1.04.2-1.43.59L10.3 9.45l-7.72 7.72c-.78.78-.78 2.05 0 2.83L4 21.41c.39.39.9.59 1.41.59.51 0 1.02-.2 1.41-.59l7.78-7.78 2.81-2.81c.8-.78.8-2.07 0-2.86zM5.41 20L4 18.59l7.72-7.72 1.47 1.35L5.41 20z\"/>\n",
              "  </svg>\n",
              "      </button>\n",
              "      \n",
              "  <style>\n",
              "    .colab-df-container {\n",
              "      display:flex;\n",
              "      flex-wrap:wrap;\n",
              "      gap: 12px;\n",
              "    }\n",
              "\n",
              "    .colab-df-convert {\n",
              "      background-color: #E8F0FE;\n",
              "      border: none;\n",
              "      border-radius: 50%;\n",
              "      cursor: pointer;\n",
              "      display: none;\n",
              "      fill: #1967D2;\n",
              "      height: 32px;\n",
              "      padding: 0 0 0 0;\n",
              "      width: 32px;\n",
              "    }\n",
              "\n",
              "    .colab-df-convert:hover {\n",
              "      background-color: #E2EBFA;\n",
              "      box-shadow: 0px 1px 2px rgba(60, 64, 67, 0.3), 0px 1px 3px 1px rgba(60, 64, 67, 0.15);\n",
              "      fill: #174EA6;\n",
              "    }\n",
              "\n",
              "    [theme=dark] .colab-df-convert {\n",
              "      background-color: #3B4455;\n",
              "      fill: #D2E3FC;\n",
              "    }\n",
              "\n",
              "    [theme=dark] .colab-df-convert:hover {\n",
              "      background-color: #434B5C;\n",
              "      box-shadow: 0px 1px 3px 1px rgba(0, 0, 0, 0.15);\n",
              "      filter: drop-shadow(0px 1px 2px rgba(0, 0, 0, 0.3));\n",
              "      fill: #FFFFFF;\n",
              "    }\n",
              "  </style>\n",
              "\n",
              "      <script>\n",
              "        const buttonEl =\n",
              "          document.querySelector('#df-d8647f30-0bdc-4a2e-9fc2-247a4282f3eb button.colab-df-convert');\n",
              "        buttonEl.style.display =\n",
              "          google.colab.kernel.accessAllowed ? 'block' : 'none';\n",
              "\n",
              "        async function convertToInteractive(key) {\n",
              "          const element = document.querySelector('#df-d8647f30-0bdc-4a2e-9fc2-247a4282f3eb');\n",
              "          const dataTable =\n",
              "            await google.colab.kernel.invokeFunction('convertToInteractive',\n",
              "                                                     [key], {});\n",
              "          if (!dataTable) return;\n",
              "\n",
              "          const docLinkHtml = 'Like what you see? Visit the ' +\n",
              "            '<a target=\"_blank\" href=https://colab.research.google.com/notebooks/data_table.ipynb>data table notebook</a>'\n",
              "            + ' to learn more about interactive tables.';\n",
              "          element.innerHTML = '';\n",
              "          dataTable['output_type'] = 'display_data';\n",
              "          await google.colab.output.renderOutput(dataTable, element);\n",
              "          const docLink = document.createElement('div');\n",
              "          docLink.innerHTML = docLinkHtml;\n",
              "          element.appendChild(docLink);\n",
              "        }\n",
              "      </script>\n",
              "    </div>\n",
              "  </div>\n",
              "  "
            ]
          },
          "metadata": {},
          "execution_count": 10
        }
      ]
    },
    {
      "cell_type": "code",
      "source": [
        "sigma_parki.plot();"
      ],
      "metadata": {
        "colab": {
          "base_uri": "https://localhost:8080/",
          "height": 277
        },
        "id": "DBu1jl0HiEBM",
        "outputId": "290594c8-b946-4f85-a8cd-869ac09e8a11"
      },
      "execution_count": 11,
      "outputs": [
        {
          "output_type": "display_data",
          "data": {
            "text/plain": [
              "<Figure size 432x288 with 1 Axes>"
            ],
            "image/png": "[encoded data removed]"
          },
          "metadata": {
            "needs_background": "light"
          }
        }
      ]
    },
    {
      "cell_type": "code",
      "source": [
        "sigma_parki.mean()*np.sqrt(252)"
      ],
      "metadata": {
        "colab": {
          "base_uri": "https://localhost:8080/"
        },
        "id": "FnpvbVNQTRSl",
        "outputId": "f5bb46f7-78a2-4ba8-9821-327a926ac550"
      },
      "execution_count": 12,
      "outputs": [
        {
          "output_type": "execute_result",
          "data": {
            "text/plain": [
              "DIS    0.230885\n",
              "HSY    0.160303\n",
              "dtype: float64"
            ]
          },
          "metadata": {},
          "execution_count": 12
        }
      ]
    },
    {
      "cell_type": "markdown",
      "source": [
        "Volatilidad Garman-Klass"
      ],
      "metadata": {
        "id": "xvqwDzQWTjEi"
      }
    },
    {
      "cell_type": "code",
      "source": [
        "retorno_gar = np.log(precios_vol[\"Close\"]/precios_vol[\"Open\"]).dropna()\n",
        "sigma_vol = (0.5*retorno_vol**2-(2*np.log(2)-1)*retorno_gar**2)**0.5\n",
        "sigma_vol"
      ],
      "metadata": {
        "colab": {
          "base_uri": "https://localhost:8080/",
          "height": 454
        },
        "id": "uy1OBXlxTRLY",
        "outputId": "d780394b-320a-42f1-999f-1f5376cb5ec4"
      },
      "execution_count": 13,
      "outputs": [
        {
          "output_type": "execute_result",
          "data": {
            "text/plain": [
              "                 DIS       HSY\n",
              "Date                          \n",
              "2021-01-04  0.026793  0.015655\n",
              "2021-01-05  0.014423  0.009480\n",
              "2021-01-06  0.016835  0.013828\n",
              "2021-01-07  0.008814  0.009718\n",
              "2021-01-08  0.013556  0.006546\n",
              "...              ...       ...\n",
              "2022-12-23  0.012498  0.005897\n",
              "2022-12-27  0.014244  0.004855\n",
              "2022-12-28  0.016625  0.006161\n",
              "2022-12-29  0.022790  0.006355\n",
              "2022-12-30  0.013113  0.010199\n",
              "\n",
              "[503 rows x 2 columns]"
            ],
            "text/html": [
              "\n",
              "  <div id=\"df-e8b4a8b5-4672-4a76-9683-64833b455eb8\">\n",
              "    <div class=\"colab-df-container\">\n",
              "      <div>\n",
              "<style scoped>\n",
              "    .dataframe tbody tr th:only-of-type {\n",
              "        vertical-align: middle;\n",
              "    }\n",
              "\n",
              "    .dataframe tbody tr th {\n",
              "        vertical-align: top;\n",
              "    }\n",
              "\n",
              "    .dataframe thead th {\n",
              "        text-align: right;\n",
              "    }\n",
              "</style>\n",
              "<table border=\"1\" class=\"dataframe\">\n",
              "  <thead>\n",
              "    <tr style=\"text-align: right;\">\n",
              "      <th></th>\n",
              "      <th>DIS</th>\n",
              "      <th>HSY</th>\n",
              "    </tr>\n",
              "    <tr>\n",
              "      <th>Date</th>\n",
              "      <th></th>\n",
              "      <th></th>\n",
              "    </tr>\n",
              "  </thead>\n",
              "  <tbody>\n",
              "    <tr>\n",
              "      <th>2021-01-04</th>\n",
              "      <td>0.026793</td>\n",
              "      <td>0.015655</td>\n",
              "    </tr>\n",
              "    <tr>\n",
              "      <th>2021-01-05</th>\n",
              "      <td>0.014423</td>\n",
              "      <td>0.009480</td>\n",
              "    </tr>\n",
              "    <tr>\n",
              "      <th>2021-01-06</th>\n",
              "      <td>0.016835</td>\n",
              "      <td>0.013828</td>\n",
              "    </tr>\n",
              "    <tr>\n",
              "      <th>2021-01-07</th>\n",
              "      <td>0.008814</td>\n",
              "      <td>0.009718</td>\n",
              "    </tr>\n",
              "    <tr>\n",
              "      <th>2021-01-08</th>\n",
              "      <td>0.013556</td>\n",
              "      <td>0.006546</td>\n",
              "    </tr>\n",
              "    <tr>\n",
              "      <th>...</th>\n",
              "      <td>...</td>\n",
              "      <td>...</td>\n",
              "    </tr>\n",
              "    <tr>\n",
              "      <th>2022-12-23</th>\n",
              "      <td>0.012498</td>\n",
              "      <td>0.005897</td>\n",
              "    </tr>\n",
              "    <tr>\n",
              "      <th>2022-12-27</th>\n",
              "      <td>0.014244</td>\n",
              "      <td>0.004855</td>\n",
              "    </tr>\n",
              "    <tr>\n",
              "      <th>2022-12-28</th>\n",
              "      <td>0.016625</td>\n",
              "      <td>0.006161</td>\n",
              "    </tr>\n",
              "    <tr>\n",
              "      <th>2022-12-29</th>\n",
              "      <td>0.022790</td>\n",
              "      <td>0.006355</td>\n",
              "    </tr>\n",
              "    <tr>\n",
              "      <th>2022-12-30</th>\n",
              "      <td>0.013113</td>\n",
              "      <td>0.010199</td>\n",
              "    </tr>\n",
              "  </tbody>\n",
              "</table>\n",
              "<p>503 rows × 2 columns</p>\n",
              "</div>\n",
              "      <button class=\"colab-df-convert\" onclick=\"convertToInteractive('df-e8b4a8b5-4672-4a76-9683-64833b455eb8')\"\n",
              "              title=\"Convert this dataframe to an interactive table.\"\n",
              "              style=\"display:none;\">\n",
              "        \n",
              "  <svg xmlns=\"http://www.w3.org/2000/svg\" height=\"24px\"viewBox=\"0 0 24 24\"\n",
              "       width=\"24px\">\n",
              "    <path d=\"M0 0h24v24H0V0z\" fill=\"none\"/>\n",
              "    <path d=\"M18.56 5.44l.94 2.06.94-2.06 2.06-.94-2.06-.94-.94-2.06-.94 2.06-2.06.94zm-11 1L8.5 8.5l.94-2.06 2.06-.94-2.06-.94L8.5 2.5l-.94 2.06-2.06.94zm10 10l.94 2.06.94-2.06 2.06-.94-2.06-.94-.94-2.06-.94 2.06-2.06.94z\"/><path d=\"M17.41 7.96l-1.37-1.37c-.4-.4-.92-.59-1.43-.59-.52 0-1.04.2-1.43.59L10.3 9.45l-7.72 7.72c-.78.78-.78 2.05 0 2.83L4 21.41c.39.39.9.59 1.41.59.51 0 1.02-.2 1.41-.59l7.78-7.78 2.81-2.81c.8-.78.8-2.07 0-2.86zM5.41 20L4 18.59l7.72-7.72 1.47 1.35L5.41 20z\"/>\n",
              "  </svg>\n",
              "      </button>\n",
              "      \n",
              "  <style>\n",
              "    .colab-df-container {\n",
              "      display:flex;\n",
              "      flex-wrap:wrap;\n",
              "      gap: 12px;\n",
              "    }\n",
              "\n",
              "    .colab-df-convert {\n",
              "      background-color: #E8F0FE;\n",
              "      border: none;\n",
              "      border-radius: 50%;\n",
              "      cursor: pointer;\n",
              "      display: none;\n",
              "      fill: #1967D2;\n",
              "      height: 32px;\n",
              "      padding: 0 0 0 0;\n",
              "      width: 32px;\n",
              "    }\n",
              "\n",
              "    .colab-df-convert:hover {\n",
              "      background-color: #E2EBFA;\n",
              "      box-shadow: 0px 1px 2px rgba(60, 64, 67, 0.3), 0px 1px 3px 1px rgba(60, 64, 67, 0.15);\n",
              "      fill: #174EA6;\n",
              "    }\n",
              "\n",
              "    [theme=dark] .colab-df-convert {\n",
              "      background-color: #3B4455;\n",
              "      fill: #D2E3FC;\n",
              "    }\n",
              "\n",
              "    [theme=dark] .colab-df-convert:hover {\n",
              "      background-color: #434B5C;\n",
              "      box-shadow: 0px 1px 3px 1px rgba(0, 0, 0, 0.15);\n",
              "      filter: drop-shadow(0px 1px 2px rgba(0, 0, 0, 0.3));\n",
              "      fill: #FFFFFF;\n",
              "    }\n",
              "  </style>\n",
              "\n",
              "      <script>\n",
              "        const buttonEl =\n",
              "          document.querySelector('#df-e8b4a8b5-4672-4a76-9683-64833b455eb8 button.colab-df-convert');\n",
              "        buttonEl.style.display =\n",
              "          google.colab.kernel.accessAllowed ? 'block' : 'none';\n",
              "\n",
              "        async function convertToInteractive(key) {\n",
              "          const element = document.querySelector('#df-e8b4a8b5-4672-4a76-9683-64833b455eb8');\n",
              "          const dataTable =\n",
              "            await google.colab.kernel.invokeFunction('convertToInteractive',\n",
              "                                                     [key], {});\n",
              "          if (!dataTable) return;\n",
              "\n",
              "          const docLinkHtml = 'Like what you see? Visit the ' +\n",
              "            '<a target=\"_blank\" href=https://colab.research.google.com/notebooks/data_table.ipynb>data table notebook</a>'\n",
              "            + ' to learn more about interactive tables.';\n",
              "          element.innerHTML = '';\n",
              "          dataTable['output_type'] = 'display_data';\n",
              "          await google.colab.output.renderOutput(dataTable, element);\n",
              "          const docLink = document.createElement('div');\n",
              "          docLink.innerHTML = docLinkHtml;\n",
              "          element.appendChild(docLink);\n",
              "        }\n",
              "      </script>\n",
              "    </div>\n",
              "  </div>\n",
              "  "
            ]
          },
          "metadata": {},
          "execution_count": 13
        }
      ]
    },
    {
      "cell_type": "code",
      "source": [
        "sigma_vol.plot();"
      ],
      "metadata": {
        "colab": {
          "base_uri": "https://localhost:8080/",
          "height": 277
        },
        "id": "EmZ4SjK6iIQu",
        "outputId": "287bc2b2-2709-4be2-9b83-51e991d57680"
      },
      "execution_count": 14,
      "outputs": [
        {
          "output_type": "display_data",
          "data": {
            "text/plain": [
              "<Figure size 432x288 with 1 Axes>"
            ],
            "image/png": "[encoded data removed]"
          },
          "metadata": {
            "needs_background": "light"
          }
        }
      ]
    },
    {
      "cell_type": "code",
      "source": [
        "(sigma_vol.mean())*np.sqrt(252)"
      ],
      "metadata": {
        "colab": {
          "base_uri": "https://localhost:8080/"
        },
        "id": "hQWXxNFyVRWU",
        "outputId": "83a2e30c-d9e4-4f65-8ca9-55e8cfbec4e5"
      },
      "execution_count": 15,
      "outputs": [
        {
          "output_type": "execute_result",
          "data": {
            "text/plain": [
              "DIS    0.234132\n",
              "HSY    0.164433\n",
              "dtype: float64"
            ]
          },
          "metadata": {},
          "execution_count": 15
        }
      ]
    },
    {
      "cell_type": "markdown",
      "source": [
        "Volatilidad EWMA"
      ],
      "metadata": {
        "id": "dt27OksRU8Ea"
      }
    },
    {
      "cell_type": "code",
      "source": [
        "L = 0.94\n",
        "t = (retornos_d-1)\n",
        "t1 = t[::-1] \n",
        "k = np.arange(84-1,-1,-1)\n",
        "alpha = np.power(L,k)\n",
        "pd.Series(alpha)\n",
        "varEWMA = (alpha[0:2]*retornos_d**2)\n",
        "np.sqrt(varEWMA)"
      ],
      "metadata": {
        "colab": {
          "base_uri": "https://localhost:8080/",
          "height": 454
        },
        "id": "uMRi1XaYU6vj",
        "outputId": "ca7a8184-1976-4546-fe3a-bfa5683595cd"
      },
      "execution_count": 16,
      "outputs": [
        {
          "output_type": "execute_result",
          "data": {
            "text/plain": [
              "                 DIS       HSY\n",
              "Date                          \n",
              "2021-01-05  0.000327  0.000089\n",
              "2021-01-06  0.000292  0.000278\n",
              "2021-01-07  0.000232  0.000047\n",
              "2021-01-08  0.000047  0.000449\n",
              "2021-01-11  0.000172  0.001005\n",
              "...              ...       ...\n",
              "2022-12-23  0.001177  0.000319\n",
              "2022-12-27  0.001443  0.000050\n",
              "2022-12-28  0.001979  0.000966\n",
              "2022-12-29  0.002695  0.000129\n",
              "2022-12-30  0.000264  0.000572\n",
              "\n",
              "[502 rows x 2 columns]"
            ],
            "text/html": [
              "\n",
              "  <div id=\"df-7d722747-ae1d-4a0c-a15e-f08c79397810\">\n",
              "    <div class=\"colab-df-container\">\n",
              "      <div>\n",
              "<style scoped>\n",
              "    .dataframe tbody tr th:only-of-type {\n",
              "        vertical-align: middle;\n",
              "    }\n",
              "\n",
              "    .dataframe tbody tr th {\n",
              "        vertical-align: top;\n",
              "    }\n",
              "\n",
              "    .dataframe thead th {\n",
              "        text-align: right;\n",
              "    }\n",
              "</style>\n",
              "<table border=\"1\" class=\"dataframe\">\n",
              "  <thead>\n",
              "    <tr style=\"text-align: right;\">\n",
              "      <th></th>\n",
              "      <th>DIS</th>\n",
              "      <th>HSY</th>\n",
              "    </tr>\n",
              "    <tr>\n",
              "      <th>Date</th>\n",
              "      <th></th>\n",
              "      <th></th>\n",
              "    </tr>\n",
              "  </thead>\n",
              "  <tbody>\n",
              "    <tr>\n",
              "      <th>2021-01-05</th>\n",
              "      <td>0.000327</td>\n",
              "      <td>0.000089</td>\n",
              "    </tr>\n",
              "    <tr>\n",
              "      <th>2021-01-06</th>\n",
              "      <td>0.000292</td>\n",
              "      <td>0.000278</td>\n",
              "    </tr>\n",
              "    <tr>\n",
              "      <th>2021-01-07</th>\n",
              "      <td>0.000232</td>\n",
              "      <td>0.000047</td>\n",
              "    </tr>\n",
              "    <tr>\n",
              "      <th>2021-01-08</th>\n",
              "      <td>0.000047</td>\n",
              "      <td>0.000449</td>\n",
              "    </tr>\n",
              "    <tr>\n",
              "      <th>2021-01-11</th>\n",
              "      <td>0.000172</td>\n",
              "      <td>0.001005</td>\n",
              "    </tr>\n",
              "    <tr>\n",
              "      <th>...</th>\n",
              "      <td>...</td>\n",
              "      <td>...</td>\n",
              "    </tr>\n",
              "    <tr>\n",
              "      <th>2022-12-23</th>\n",
              "      <td>0.001177</td>\n",
              "      <td>0.000319</td>\n",
              "    </tr>\n",
              "    <tr>\n",
              "      <th>2022-12-27</th>\n",
              "      <td>0.001443</td>\n",
              "      <td>0.000050</td>\n",
              "    </tr>\n",
              "    <tr>\n",
              "      <th>2022-12-28</th>\n",
              "      <td>0.001979</td>\n",
              "      <td>0.000966</td>\n",
              "    </tr>\n",
              "    <tr>\n",
              "      <th>2022-12-29</th>\n",
              "      <td>0.002695</td>\n",
              "      <td>0.000129</td>\n",
              "    </tr>\n",
              "    <tr>\n",
              "      <th>2022-12-30</th>\n",
              "      <td>0.000264</td>\n",
              "      <td>0.000572</td>\n",
              "    </tr>\n",
              "  </tbody>\n",
              "</table>\n",
              "<p>502 rows × 2 columns</p>\n",
              "</div>\n",
              "      <button class=\"colab-df-convert\" onclick=\"convertToInteractive('df-7d722747-ae1d-4a0c-a15e-f08c79397810')\"\n",
              "              title=\"Convert this dataframe to an interactive table.\"\n",
              "              style=\"display:none;\">\n",
              "        \n",
              "  <svg xmlns=\"http://www.w3.org/2000/svg\" height=\"24px\"viewBox=\"0 0 24 24\"\n",
              "       width=\"24px\">\n",
              "    <path d=\"M0 0h24v24H0V0z\" fill=\"none\"/>\n",
              "    <path d=\"M18.56 5.44l.94 2.06.94-2.06 2.06-.94-2.06-.94-.94-2.06-.94 2.06-2.06.94zm-11 1L8.5 8.5l.94-2.06 2.06-.94-2.06-.94L8.5 2.5l-.94 2.06-2.06.94zm10 10l.94 2.06.94-2.06 2.06-.94-2.06-.94-.94-2.06-.94 2.06-2.06.94z\"/><path d=\"M17.41 7.96l-1.37-1.37c-.4-.4-.92-.59-1.43-.59-.52 0-1.04.2-1.43.59L10.3 9.45l-7.72 7.72c-.78.78-.78 2.05 0 2.83L4 21.41c.39.39.9.59 1.41.59.51 0 1.02-.2 1.41-.59l7.78-7.78 2.81-2.81c.8-.78.8-2.07 0-2.86zM5.41 20L4 18.59l7.72-7.72 1.47 1.35L5.41 20z\"/>\n",
              "  </svg>\n",
              "      </button>\n",
              "      \n",
              "  <style>\n",
              "    .colab-df-container {\n",
              "      display:flex;\n",
              "      flex-wrap:wrap;\n",
              "      gap: 12px;\n",
              "    }\n",
              "\n",
              "    .colab-df-convert {\n",
              "      background-color: #E8F0FE;\n",
              "      border: none;\n",
              "      border-radius: 50%;\n",
              "      cursor: pointer;\n",
              "      display: none;\n",
              "      fill: #1967D2;\n",
              "      height: 32px;\n",
              "      padding: 0 0 0 0;\n",
              "      width: 32px;\n",
              "    }\n",
              "\n",
              "    .colab-df-convert:hover {\n",
              "      background-color: #E2EBFA;\n",
              "      box-shadow: 0px 1px 2px rgba(60, 64, 67, 0.3), 0px 1px 3px 1px rgba(60, 64, 67, 0.15);\n",
              "      fill: #174EA6;\n",
              "    }\n",
              "\n",
              "    [theme=dark] .colab-df-convert {\n",
              "      background-color: #3B4455;\n",
              "      fill: #D2E3FC;\n",
              "    }\n",
              "\n",
              "    [theme=dark] .colab-df-convert:hover {\n",
              "      background-color: #434B5C;\n",
              "      box-shadow: 0px 1px 3px 1px rgba(0, 0, 0, 0.15);\n",
              "      filter: drop-shadow(0px 1px 2px rgba(0, 0, 0, 0.3));\n",
              "      fill: #FFFFFF;\n",
              "    }\n",
              "  </style>\n",
              "\n",
              "      <script>\n",
              "        const buttonEl =\n",
              "          document.querySelector('#df-7d722747-ae1d-4a0c-a15e-f08c79397810 button.colab-df-convert');\n",
              "        buttonEl.style.display =\n",
              "          google.colab.kernel.accessAllowed ? 'block' : 'none';\n",
              "\n",
              "        async function convertToInteractive(key) {\n",
              "          const element = document.querySelector('#df-7d722747-ae1d-4a0c-a15e-f08c79397810');\n",
              "          const dataTable =\n",
              "            await google.colab.kernel.invokeFunction('convertToInteractive',\n",
              "                                                     [key], {});\n",
              "          if (!dataTable) return;\n",
              "\n",
              "          const docLinkHtml = 'Like what you see? Visit the ' +\n",
              "            '<a target=\"_blank\" href=https://colab.research.google.com/notebooks/data_table.ipynb>data table notebook</a>'\n",
              "            + ' to learn more about interactive tables.';\n",
              "          element.innerHTML = '';\n",
              "          dataTable['output_type'] = 'display_data';\n",
              "          await google.colab.output.renderOutput(dataTable, element);\n",
              "          const docLink = document.createElement('div');\n",
              "          docLink.innerHTML = docLinkHtml;\n",
              "          element.appendChild(docLink);\n",
              "        }\n",
              "      </script>\n",
              "    </div>\n",
              "  </div>\n",
              "  "
            ]
          },
          "metadata": {},
          "execution_count": 16
        }
      ]
    },
    {
      "cell_type": "code",
      "source": [
        "np.sqrt(varEWMA).plot();"
      ],
      "metadata": {
        "colab": {
          "base_uri": "https://localhost:8080/",
          "height": 277
        },
        "id": "lfhsWFy6iNPs",
        "outputId": "faff3b9e-e4c4-405a-a755-53f53c94da10"
      },
      "execution_count": 17,
      "outputs": [
        {
          "output_type": "display_data",
          "data": {
            "text/plain": [
              "<Figure size 432x288 with 1 Axes>"
            ],
            "image/png": "[encoded data removed]"
          },
          "metadata": {
            "needs_background": "light"
          }
        }
      ]
    },
    {
      "cell_type": "code",
      "source": [
        "var = varEWMA.sum()*(1-L)\n",
        "vol = np.sqrt(var)\n",
        "vol*np.sqrt(252)"
      ],
      "metadata": {
        "colab": {
          "base_uri": "https://localhost:8080/"
        },
        "id": "lTwSKLwEXwBy",
        "outputId": "be99793e-2714-42b3-b04e-24ca401d6c7b"
      },
      "execution_count": 18,
      "outputs": [
        {
          "output_type": "execute_result",
          "data": {
            "text/plain": [
              "DIS    0.133799\n",
              "HSY    0.079202\n",
              "dtype: float64"
            ]
          },
          "metadata": {},
          "execution_count": 18
        }
      ]
    },
    {
      "cell_type": "markdown",
      "source": [
        "**Construya una tabla resumen con las estadísticas descriptivas de las series diarias \n",
        "(media, mediana, desv. estándar, curtosis, simetría) de los dos activos.**"
      ],
      "metadata": {
        "id": "kmD3bOdshJhY"
      }
    },
    {
      "cell_type": "code",
      "source": [
        "describe = retornos_d.describe()\n",
        "s = pd.DataFrame(retornos_d.skew()).T\n",
        "s.rename(index={0:\"Coef Asimetria\"}, inplace=True)\n",
        "k = pd.DataFrame(retornos_d.kurt()).T\n",
        "k.rename(index={0:\"Kurtosis\"}, inplace=True)\n",
        "pd.concat([describe, s, k], axis =0)\n"
      ],
      "metadata": {
        "colab": {
          "base_uri": "https://localhost:8080/",
          "height": 362
        },
        "id": "sWWY55VRX8j8",
        "outputId": "e4bf8d39-e210-4e63-c15d-c3dc5f406c4a"
      },
      "execution_count": 19,
      "outputs": [
        {
          "output_type": "execute_result",
          "data": {
            "text/plain": [
              "                       DIS         HSY\n",
              "count           502.000000  502.000000\n",
              "mean             -0.001425    0.000929\n",
              "std               0.019992    0.011465\n",
              "min              -0.141139   -0.081874\n",
              "25%              -0.012993   -0.004896\n",
              "50%              -0.001267    0.000766\n",
              "75%               0.008944    0.008143\n",
              "max               0.061060    0.042942\n",
              "Coef Asimetria   -0.579021   -0.773853\n",
              "Kurtosis          5.097278    6.006223"
            ],
            "text/html": [
              "\n",
              "  <div id=\"df-6524d243-059f-4f51-af26-5e69cc26f2e5\">\n",
              "    <div class=\"colab-df-container\">\n",
              "      <div>\n",
              "<style scoped>\n",
              "    .dataframe tbody tr th:only-of-type {\n",
              "        vertical-align: middle;\n",
              "    }\n",
              "\n",
              "    .dataframe tbody tr th {\n",
              "        vertical-align: top;\n",
              "    }\n",
              "\n",
              "    .dataframe thead th {\n",
              "        text-align: right;\n",
              "    }\n",
              "</style>\n",
              "<table border=\"1\" class=\"dataframe\">\n",
              "  <thead>\n",
              "    <tr style=\"text-align: right;\">\n",
              "      <th></th>\n",
              "      <th>DIS</th>\n",
              "      <th>HSY</th>\n",
              "    </tr>\n",
              "  </thead>\n",
              "  <tbody>\n",
              "    <tr>\n",
              "      <th>count</th>\n",
              "      <td>502.000000</td>\n",
              "      <td>502.000000</td>\n",
              "    </tr>\n",
              "    <tr>\n",
              "      <th>mean</th>\n",
              "      <td>-0.001425</td>\n",
              "      <td>0.000929</td>\n",
              "    </tr>\n",
              "    <tr>\n",
              "      <th>std</th>\n",
              "      <td>0.019992</td>\n",
              "      <td>0.011465</td>\n",
              "    </tr>\n",
              "    <tr>\n",
              "      <th>min</th>\n",
              "      <td>-0.141139</td>\n",
              "      <td>-0.081874</td>\n",
              "    </tr>\n",
              "    <tr>\n",
              "      <th>25%</th>\n",
              "      <td>-0.012993</td>\n",
              "      <td>-0.004896</td>\n",
              "    </tr>\n",
              "    <tr>\n",
              "      <th>50%</th>\n",
              "      <td>-0.001267</td>\n",
              "      <td>0.000766</td>\n",
              "    </tr>\n",
              "    <tr>\n",
              "      <th>75%</th>\n",
              "      <td>0.008944</td>\n",
              "      <td>0.008143</td>\n",
              "    </tr>\n",
              "    <tr>\n",
              "      <th>max</th>\n",
              "      <td>0.061060</td>\n",
              "      <td>0.042942</td>\n",
              "    </tr>\n",
              "    <tr>\n",
              "      <th>Coef Asimetria</th>\n",
              "      <td>-0.579021</td>\n",
              "      <td>-0.773853</td>\n",
              "    </tr>\n",
              "    <tr>\n",
              "      <th>Kurtosis</th>\n",
              "      <td>5.097278</td>\n",
              "      <td>6.006223</td>\n",
              "    </tr>\n",
              "  </tbody>\n",
              "</table>\n",
              "</div>\n",
              "      <button class=\"colab-df-convert\" onclick=\"convertToInteractive('df-6524d243-059f-4f51-af26-5e69cc26f2e5')\"\n",
              "              title=\"Convert this dataframe to an interactive table.\"\n",
              "              style=\"display:none;\">\n",
              "        \n",
              "  <svg xmlns=\"http://www.w3.org/2000/svg\" height=\"24px\"viewBox=\"0 0 24 24\"\n",
              "       width=\"24px\">\n",
              "    <path d=\"M0 0h24v24H0V0z\" fill=\"none\"/>\n",
              "    <path d=\"M18.56 5.44l.94 2.06.94-2.06 2.06-.94-2.06-.94-.94-2.06-.94 2.06-2.06.94zm-11 1L8.5 8.5l.94-2.06 2.06-.94-2.06-.94L8.5 2.5l-.94 2.06-2.06.94zm10 10l.94 2.06.94-2.06 2.06-.94-2.06-.94-.94-2.06-.94 2.06-2.06.94z\"/><path d=\"M17.41 7.96l-1.37-1.37c-.4-.4-.92-.59-1.43-.59-.52 0-1.04.2-1.43.59L10.3 9.45l-7.72 7.72c-.78.78-.78 2.05 0 2.83L4 21.41c.39.39.9.59 1.41.59.51 0 1.02-.2 1.41-.59l7.78-7.78 2.81-2.81c.8-.78.8-2.07 0-2.86zM5.41 20L4 18.59l7.72-7.72 1.47 1.35L5.41 20z\"/>\n",
              "  </svg>\n",
              "      </button>\n",
              "      \n",
              "  <style>\n",
              "    .colab-df-container {\n",
              "      display:flex;\n",
              "      flex-wrap:wrap;\n",
              "      gap: 12px;\n",
              "    }\n",
              "\n",
              "    .colab-df-convert {\n",
              "      background-color: #E8F0FE;\n",
              "      border: none;\n",
              "      border-radius: 50%;\n",
              "      cursor: pointer;\n",
              "      display: none;\n",
              "      fill: #1967D2;\n",
              "      height: 32px;\n",
              "      padding: 0 0 0 0;\n",
              "      width: 32px;\n",
              "    }\n",
              "\n",
              "    .colab-df-convert:hover {\n",
              "      background-color: #E2EBFA;\n",
              "      box-shadow: 0px 1px 2px rgba(60, 64, 67, 0.3), 0px 1px 3px 1px rgba(60, 64, 67, 0.15);\n",
              "      fill: #174EA6;\n",
              "    }\n",
              "\n",
              "    [theme=dark] .colab-df-convert {\n",
              "      background-color: #3B4455;\n",
              "      fill: #D2E3FC;\n",
              "    }\n",
              "\n",
              "    [theme=dark] .colab-df-convert:hover {\n",
              "      background-color: #434B5C;\n",
              "      box-shadow: 0px 1px 3px 1px rgba(0, 0, 0, 0.15);\n",
              "      filter: drop-shadow(0px 1px 2px rgba(0, 0, 0, 0.3));\n",
              "      fill: #FFFFFF;\n",
              "    }\n",
              "  </style>\n",
              "\n",
              "      <script>\n",
              "        const buttonEl =\n",
              "          document.querySelector('#df-6524d243-059f-4f51-af26-5e69cc26f2e5 button.colab-df-convert');\n",
              "        buttonEl.style.display =\n",
              "          google.colab.kernel.accessAllowed ? 'block' : 'none';\n",
              "\n",
              "        async function convertToInteractive(key) {\n",
              "          const element = document.querySelector('#df-6524d243-059f-4f51-af26-5e69cc26f2e5');\n",
              "          const dataTable =\n",
              "            await google.colab.kernel.invokeFunction('convertToInteractive',\n",
              "                                                     [key], {});\n",
              "          if (!dataTable) return;\n",
              "\n",
              "          const docLinkHtml = 'Like what you see? Visit the ' +\n",
              "            '<a target=\"_blank\" href=https://colab.research.google.com/notebooks/data_table.ipynb>data table notebook</a>'\n",
              "            + ' to learn more about interactive tables.';\n",
              "          element.innerHTML = '';\n",
              "          dataTable['output_type'] = 'display_data';\n",
              "          await google.colab.output.renderOutput(dataTable, element);\n",
              "          const docLink = document.createElement('div');\n",
              "          docLink.innerHTML = docLinkHtml;\n",
              "          element.appendChild(docLink);\n",
              "        }\n",
              "      </script>\n",
              "    </div>\n",
              "  </div>\n",
              "  "
            ]
          },
          "metadata": {},
          "execution_count": 19
        }
      ]
    },
    {
      "cell_type": "markdown",
      "source": [
        "**Compare las distribuciones empíricas de los dos activos con la distribución teórica normal**"
      ],
      "metadata": {
        "id": "xgHzNd4ThO4n"
      }
    },
    {
      "cell_type": "code",
      "source": [
        "from matplotlib import scale\n",
        "from scipy.stats import norm"
      ],
      "metadata": {
        "id": "YJwD8tcvcWgO"
      },
      "execution_count": 20,
      "outputs": []
    },
    {
      "cell_type": "code",
      "source": [
        "x = np.linspace(-0.1,0.1,num=2)\n",
        "plt.hist(retornos_d['DIS'],bins=20,density=True,histtype=\"step\")\n",
        "plt.xlabel(\"retornos\")\n",
        "plt.ylabel(\"probabilidad\")\n",
        "plt.plot(x,norm.pdf(x,scale=retornos_d['DIS'].std()),\"G\")\n",
        "plt.show()\n",
        "sns.histplot(retornos_d['DIS'],kde=True);"
      ],
      "metadata": {
        "colab": {
          "base_uri": "https://localhost:8080/",
          "height": 541
        },
        "id": "Pn6fMSafbTGy",
        "outputId": "5ad0f76f-9549-4431-99f8-16d5b03fc113"
      },
      "execution_count": 21,
      "outputs": [
        {
          "output_type": "display_data",
          "data": {
            "text/plain": [
              "<Figure size 432x288 with 1 Axes>"
            ],
            "image/png": "[encoded data removed]"
          },
          "metadata": {
            "needs_background": "light"
          }
        },
        {
          "output_type": "display_data",
          "data": {
            "text/plain": [
              "<Figure size 432x288 with 1 Axes>"
            ],
            "image/png": "[encoded data removed]"
          },
          "metadata": {
            "needs_background": "light"
          }
        }
      ]
    },
    {
      "cell_type": "code",
      "source": [
        "x = np.linspace(-0.1,0.1,num=2)\n",
        "plt.hist(retornos_d['HSY'],bins=20,density=True,histtype=\"step\")\n",
        "plt.xlabel(\"retornos\")\n",
        "plt.ylabel(\"probabilidad\")\n",
        "plt.plot(x,norm.pdf(x,scale=retornos_d['HSY'].std()),\"G\")\n",
        "plt.show()\n",
        "sns.histplot(retornos_d['HSY'],kde=True);"
      ],
      "metadata": {
        "colab": {
          "base_uri": "https://localhost:8080/",
          "height": 543
        },
        "id": "nFNTbMtddETY",
        "outputId": "ed20ab1b-837e-41b8-8e5f-20be8142af63"
      },
      "execution_count": 22,
      "outputs": [
        {
          "output_type": "display_data",
          "data": {
            "text/plain": [
              "<Figure size 432x288 with 1 Axes>"
            ],
            "image/png": "[encoded data removed]"
          },
          "metadata": {
            "needs_background": "light"
          }
        },
        {
          "output_type": "display_data",
          "data": {
            "text/plain": [
              "<Figure size 432x288 with 1 Axes>"
            ],
            "image/png": "[encoded data removed]"
          },
          "metadata": {
            "needs_background": "light"
          }
        }
      ]
    },
    {
      "cell_type": "markdown",
      "source": [
        "**Calcule la matriz de correlaciones de Pearson, rango de Kendall y de Spearman.**"
      ],
      "metadata": {
        "id": "b40ZC_QNhj1s"
      }
    },
    {
      "cell_type": "code",
      "source": [
        "retornos_d.corr()"
      ],
      "metadata": {
        "colab": {
          "base_uri": "https://localhost:8080/",
          "height": 112
        },
        "id": "MAoiL6n0dLDG",
        "outputId": "07de17f8-e456-4109-a962-86378a1175e4"
      },
      "execution_count": 23,
      "outputs": [
        {
          "output_type": "execute_result",
          "data": {
            "text/plain": [
              "          DIS       HSY\n",
              "DIS  1.000000  0.161494\n",
              "HSY  0.161494  1.000000"
            ],
            "text/html": [
              "\n",
              "  <div id=\"df-9965a2a2-0908-4539-ac4f-4c008218f16f\">\n",
              "    <div class=\"colab-df-container\">\n",
              "      <div>\n",
              "<style scoped>\n",
              "    .dataframe tbody tr th:only-of-type {\n",
              "        vertical-align: middle;\n",
              "    }\n",
              "\n",
              "    .dataframe tbody tr th {\n",
              "        vertical-align: top;\n",
              "    }\n",
              "\n",
              "    .dataframe thead th {\n",
              "        text-align: right;\n",
              "    }\n",
              "</style>\n",
              "<table border=\"1\" class=\"dataframe\">\n",
              "  <thead>\n",
              "    <tr style=\"text-align: right;\">\n",
              "      <th></th>\n",
              "      <th>DIS</th>\n",
              "      <th>HSY</th>\n",
              "    </tr>\n",
              "  </thead>\n",
              "  <tbody>\n",
              "    <tr>\n",
              "      <th>DIS</th>\n",
              "      <td>1.000000</td>\n",
              "      <td>0.161494</td>\n",
              "    </tr>\n",
              "    <tr>\n",
              "      <th>HSY</th>\n",
              "      <td>0.161494</td>\n",
              "      <td>1.000000</td>\n",
              "    </tr>\n",
              "  </tbody>\n",
              "</table>\n",
              "</div>\n",
              "      <button class=\"colab-df-convert\" onclick=\"convertToInteractive('df-9965a2a2-0908-4539-ac4f-4c008218f16f')\"\n",
              "              title=\"Convert this dataframe to an interactive table.\"\n",
              "              style=\"display:none;\">\n",
              "        \n",
              "  <svg xmlns=\"http://www.w3.org/2000/svg\" height=\"24px\"viewBox=\"0 0 24 24\"\n",
              "       width=\"24px\">\n",
              "    <path d=\"M0 0h24v24H0V0z\" fill=\"none\"/>\n",
              "    <path d=\"M18.56 5.44l.94 2.06.94-2.06 2.06-.94-2.06-.94-.94-2.06-.94 2.06-2.06.94zm-11 1L8.5 8.5l.94-2.06 2.06-.94-2.06-.94L8.5 2.5l-.94 2.06-2.06.94zm10 10l.94 2.06.94-2.06 2.06-.94-2.06-.94-.94-2.06-.94 2.06-2.06.94z\"/><path d=\"M17.41 7.96l-1.37-1.37c-.4-.4-.92-.59-1.43-.59-.52 0-1.04.2-1.43.59L10.3 9.45l-7.72 7.72c-.78.78-.78 2.05 0 2.83L4 21.41c.39.39.9.59 1.41.59.51 0 1.02-.2 1.41-.59l7.78-7.78 2.81-2.81c.8-.78.8-2.07 0-2.86zM5.41 20L4 18.59l7.72-7.72 1.47 1.35L5.41 20z\"/>\n",
              "  </svg>\n",
              "      </button>\n",
              "      \n",
              "  <style>\n",
              "    .colab-df-container {\n",
              "      display:flex;\n",
              "      flex-wrap:wrap;\n",
              "      gap: 12px;\n",
              "    }\n",
              "\n",
              "    .colab-df-convert {\n",
              "      background-color: #E8F0FE;\n",
              "      border: none;\n",
              "      border-radius: 50%;\n",
              "      cursor: pointer;\n",
              "      display: none;\n",
              "      fill: #1967D2;\n",
              "      height: 32px;\n",
              "      padding: 0 0 0 0;\n",
              "      width: 32px;\n",
              "    }\n",
              "\n",
              "    .colab-df-convert:hover {\n",
              "      background-color: #E2EBFA;\n",
              "      box-shadow: 0px 1px 2px rgba(60, 64, 67, 0.3), 0px 1px 3px 1px rgba(60, 64, 67, 0.15);\n",
              "      fill: #174EA6;\n",
              "    }\n",
              "\n",
              "    [theme=dark] .colab-df-convert {\n",
              "      background-color: #3B4455;\n",
              "      fill: #D2E3FC;\n",
              "    }\n",
              "\n",
              "    [theme=dark] .colab-df-convert:hover {\n",
              "      background-color: #434B5C;\n",
              "      box-shadow: 0px 1px 3px 1px rgba(0, 0, 0, 0.15);\n",
              "      filter: drop-shadow(0px 1px 2px rgba(0, 0, 0, 0.3));\n",
              "      fill: #FFFFFF;\n",
              "    }\n",
              "  </style>\n",
              "\n",
              "      <script>\n",
              "        const buttonEl =\n",
              "          document.querySelector('#df-9965a2a2-0908-4539-ac4f-4c008218f16f button.colab-df-convert');\n",
              "        buttonEl.style.display =\n",
              "          google.colab.kernel.accessAllowed ? 'block' : 'none';\n",
              "\n",
              "        async function convertToInteractive(key) {\n",
              "          const element = document.querySelector('#df-9965a2a2-0908-4539-ac4f-4c008218f16f');\n",
              "          const dataTable =\n",
              "            await google.colab.kernel.invokeFunction('convertToInteractive',\n",
              "                                                     [key], {});\n",
              "          if (!dataTable) return;\n",
              "\n",
              "          const docLinkHtml = 'Like what you see? Visit the ' +\n",
              "            '<a target=\"_blank\" href=https://colab.research.google.com/notebooks/data_table.ipynb>data table notebook</a>'\n",
              "            + ' to learn more about interactive tables.';\n",
              "          element.innerHTML = '';\n",
              "          dataTable['output_type'] = 'display_data';\n",
              "          await google.colab.output.renderOutput(dataTable, element);\n",
              "          const docLink = document.createElement('div');\n",
              "          docLink.innerHTML = docLinkHtml;\n",
              "          element.appendChild(docLink);\n",
              "        }\n",
              "      </script>\n",
              "    </div>\n",
              "  </div>\n",
              "  "
            ]
          },
          "metadata": {},
          "execution_count": 23
        }
      ]
    },
    {
      "cell_type": "code",
      "source": [
        "stats.kendalltau(retornos_d['DIS'], retornos_d['HSY'])"
      ],
      "metadata": {
        "colab": {
          "base_uri": "https://localhost:8080/"
        },
        "id": "LFOUSZ2YeXp8",
        "outputId": "14b354ce-aeb1-4a30-e97d-28ceb92ef9a5"
      },
      "execution_count": 24,
      "outputs": [
        {
          "output_type": "execute_result",
          "data": {
            "text/plain": [
              "KendalltauResult(correlation=0.10178293097021336, pvalue=0.0006525943664161844)"
            ]
          },
          "metadata": {},
          "execution_count": 24
        }
      ]
    },
    {
      "cell_type": "code",
      "source": [
        "stats.spearmanr(retornos_d['DIS'], retornos_d['HSY'])"
      ],
      "metadata": {
        "colab": {
          "base_uri": "https://localhost:8080/"
        },
        "id": "c3Ks2lnMfB_E",
        "outputId": "82bc0b17-e48d-4052-c9e8-5eef77244864"
      },
      "execution_count": 25,
      "outputs": [
        {
          "output_type": "execute_result",
          "data": {
            "text/plain": [
              "SpearmanrResult(correlation=0.1506709322211517, pvalue=0.000707196672842843)"
            ]
          },
          "metadata": {},
          "execution_count": 25
        }
      ]
    },
    {
      "cell_type": "markdown",
      "source": [
        "**Punto 2**"
      ],
      "metadata": {
        "id": "fRNrMap-iudr"
      }
    },
    {
      "cell_type": "code",
      "source": [
        "activos = [\"DIS\", \"HSY\", \"JPM\", \"F\", \"MCD\", \"AAPL\", \"NKE\", \"META\", \"GM\", \"WMT\"]\n",
        "precios2 = pdr.get_data_yahoo(activos,start=\"2017-12-01\",end=\"2022-12-31\")[\"Adj Close\"]\n",
        "precios2"
      ],
      "metadata": {
        "colab": {
          "base_uri": "https://localhost:8080/",
          "height": 516
        },
        "id": "9JPeqfezixQq",
        "outputId": "617e4afc-e098-4013-d6d8-877a48366987"
      },
      "execution_count": 26,
      "outputs": [
        {
          "output_type": "stream",
          "name": "stdout",
          "text": [
            "[*********************100%***********************]  10 of 10 completed\n"
          ]
        },
        {
          "output_type": "execute_result",
          "data": {
            "text/plain": [
              "                  AAPL         DIS          F         GM         HSY  \\\n",
              "Date                                                                   \n",
              "2017-12-01   40.600861  101.539314   9.809043  38.449070   99.495979   \n",
              "2017-12-04   40.304153  106.334091   9.848027  38.682690  101.118248   \n",
              "2017-12-05   40.266174  103.439865   9.692083  38.458054  101.064468   \n",
              "2017-12-06   40.116634  101.741920   9.653096  37.873997  101.960770   \n",
              "2017-12-07   40.190220  101.548965   9.770056  38.100674  101.781487   \n",
              "...                ...         ...        ...        ...         ...   \n",
              "2022-12-23  131.658981   88.010002  10.686316  33.830002  235.880005   \n",
              "2022-12-27  129.831772   86.370003  10.535805  33.320000  235.729996   \n",
              "2022-12-28  125.847855   84.169998  10.300631  32.529999  232.869995   \n",
              "2022-12-29  129.412415   87.180000  10.855641  33.669998  233.250000   \n",
              "2022-12-30  129.731918   86.879997  10.940305  33.639999  231.570007   \n",
              "\n",
              "                   JPM         MCD        META         NKE         WMT  \n",
              "Date                                                                    \n",
              "2017-12-01   89.986008  153.584747  175.100006   56.992020   88.377571  \n",
              "2017-12-04   91.840836  151.612396  171.470001   57.201408   88.068916  \n",
              "2017-12-05   90.784622  153.691376  172.830002   57.505970   88.813339  \n",
              "2017-12-06   90.106216  154.126694  176.059998   56.839741   88.314034  \n",
              "2017-12-07   89.840004  153.620300  180.139999   57.677296   88.323158  \n",
              "...                ...         ...         ...         ...         ...  \n",
              "2022-12-23  130.317398  267.570007  118.040001  116.250000  143.770004  \n",
              "2022-12-27  130.774033  266.839996  116.879997  117.559998  143.809998  \n",
              "2022-12-28  131.488754  265.109985  115.620003  114.980003  141.289993  \n",
              "2022-12-29  132.243179  265.929993  120.260002  117.349998  142.149994  \n",
              "2022-12-30  133.116730  263.529999  120.339996  117.010002  141.789993  \n",
              "\n",
              "[1279 rows x 10 columns]"
            ],
            "text/html": [
              "\n",
              "  <div id=\"df-207628c0-0c88-4f3b-b42b-4d36c965d27b\">\n",
              "    <div class=\"colab-df-container\">\n",
              "      <div>\n",
              "<style scoped>\n",
              "    .dataframe tbody tr th:only-of-type {\n",
              "        vertical-align: middle;\n",
              "    }\n",
              "\n",
              "    .dataframe tbody tr th {\n",
              "        vertical-align: top;\n",
              "    }\n",
              "\n",
              "    .dataframe thead th {\n",
              "        text-align: right;\n",
              "    }\n",
              "</style>\n",
              "<table border=\"1\" class=\"dataframe\">\n",
              "  <thead>\n",
              "    <tr style=\"text-align: right;\">\n",
              "      <th></th>\n",
              "      <th>AAPL</th>\n",
              "      <th>DIS</th>\n",
              "      <th>F</th>\n",
              "      <th>GM</th>\n",
              "      <th>HSY</th>\n",
              "      <th>JPM</th>\n",
              "      <th>MCD</th>\n",
              "      <th>META</th>\n",
              "      <th>NKE</th>\n",
              "      <th>WMT</th>\n",
              "    </tr>\n",
              "    <tr>\n",
              "      <th>Date</th>\n",
              "      <th></th>\n",
              "      <th></th>\n",
              "      <th></th>\n",
              "      <th></th>\n",
              "      <th></th>\n",
              "      <th></th>\n",
              "      <th></th>\n",
              "      <th></th>\n",
              "      <th></th>\n",
              "      <th></th>\n",
              "    </tr>\n",
              "  </thead>\n",
              "  <tbody>\n",
              "    <tr>\n",
              "      <th>2017-12-01</th>\n",
              "      <td>40.600861</td>\n",
              "      <td>101.539314</td>\n",
              "      <td>9.809043</td>\n",
              "      <td>38.449070</td>\n",
              "      <td>99.495979</td>\n",
              "      <td>89.986008</td>\n",
              "      <td>153.584747</td>\n",
              "      <td>175.100006</td>\n",
              "      <td>56.992020</td>\n",
              "      <td>88.377571</td>\n",
              "    </tr>\n",
              "    <tr>\n",
              "      <th>2017-12-04</th>\n",
              "      <td>40.304153</td>\n",
              "      <td>106.334091</td>\n",
              "      <td>9.848027</td>\n",
              "      <td>38.682690</td>\n",
              "      <td>101.118248</td>\n",
              "      <td>91.840836</td>\n",
              "      <td>151.612396</td>\n",
              "      <td>171.470001</td>\n",
              "      <td>57.201408</td>\n",
              "      <td>88.068916</td>\n",
              "    </tr>\n",
              "    <tr>\n",
              "      <th>2017-12-05</th>\n",
              "      <td>40.266174</td>\n",
              "      <td>103.439865</td>\n",
              "      <td>9.692083</td>\n",
              "      <td>38.458054</td>\n",
              "      <td>101.064468</td>\n",
              "      <td>90.784622</td>\n",
              "      <td>153.691376</td>\n",
              "      <td>172.830002</td>\n",
              "      <td>57.505970</td>\n",
              "      <td>88.813339</td>\n",
              "    </tr>\n",
              "    <tr>\n",
              "      <th>2017-12-06</th>\n",
              "      <td>40.116634</td>\n",
              "      <td>101.741920</td>\n",
              "      <td>9.653096</td>\n",
              "      <td>37.873997</td>\n",
              "      <td>101.960770</td>\n",
              "      <td>90.106216</td>\n",
              "      <td>154.126694</td>\n",
              "      <td>176.059998</td>\n",
              "      <td>56.839741</td>\n",
              "      <td>88.314034</td>\n",
              "    </tr>\n",
              "    <tr>\n",
              "      <th>2017-12-07</th>\n",
              "      <td>40.190220</td>\n",
              "      <td>101.548965</td>\n",
              "      <td>9.770056</td>\n",
              "      <td>38.100674</td>\n",
              "      <td>101.781487</td>\n",
              "      <td>89.840004</td>\n",
              "      <td>153.620300</td>\n",
              "      <td>180.139999</td>\n",
              "      <td>57.677296</td>\n",
              "      <td>88.323158</td>\n",
              "    </tr>\n",
              "    <tr>\n",
              "      <th>...</th>\n",
              "      <td>...</td>\n",
              "      <td>...</td>\n",
              "      <td>...</td>\n",
              "      <td>...</td>\n",
              "      <td>...</td>\n",
              "      <td>...</td>\n",
              "      <td>...</td>\n",
              "      <td>...</td>\n",
              "      <td>...</td>\n",
              "      <td>...</td>\n",
              "    </tr>\n",
              "    <tr>\n",
              "      <th>2022-12-23</th>\n",
              "      <td>131.658981</td>\n",
              "      <td>88.010002</td>\n",
              "      <td>10.686316</td>\n",
              "      <td>33.830002</td>\n",
              "      <td>235.880005</td>\n",
              "      <td>130.317398</td>\n",
              "      <td>267.570007</td>\n",
              "      <td>118.040001</td>\n",
              "      <td>116.250000</td>\n",
              "      <td>143.770004</td>\n",
              "    </tr>\n",
              "    <tr>\n",
              "      <th>2022-12-27</th>\n",
              "      <td>129.831772</td>\n",
              "      <td>86.370003</td>\n",
              "      <td>10.535805</td>\n",
              "      <td>33.320000</td>\n",
              "      <td>235.729996</td>\n",
              "      <td>130.774033</td>\n",
              "      <td>266.839996</td>\n",
              "      <td>116.879997</td>\n",
              "      <td>117.559998</td>\n",
              "      <td>143.809998</td>\n",
              "    </tr>\n",
              "    <tr>\n",
              "      <th>2022-12-28</th>\n",
              "      <td>125.847855</td>\n",
              "      <td>84.169998</td>\n",
              "      <td>10.300631</td>\n",
              "      <td>32.529999</td>\n",
              "      <td>232.869995</td>\n",
              "      <td>131.488754</td>\n",
              "      <td>265.109985</td>\n",
              "      <td>115.620003</td>\n",
              "      <td>114.980003</td>\n",
              "      <td>141.289993</td>\n",
              "    </tr>\n",
              "    <tr>\n",
              "      <th>2022-12-29</th>\n",
              "      <td>129.412415</td>\n",
              "      <td>87.180000</td>\n",
              "      <td>10.855641</td>\n",
              "      <td>33.669998</td>\n",
              "      <td>233.250000</td>\n",
              "      <td>132.243179</td>\n",
              "      <td>265.929993</td>\n",
              "      <td>120.260002</td>\n",
              "      <td>117.349998</td>\n",
              "      <td>142.149994</td>\n",
              "    </tr>\n",
              "    <tr>\n",
              "      <th>2022-12-30</th>\n",
              "      <td>129.731918</td>\n",
              "      <td>86.879997</td>\n",
              "      <td>10.940305</td>\n",
              "      <td>33.639999</td>\n",
              "      <td>231.570007</td>\n",
              "      <td>133.116730</td>\n",
              "      <td>263.529999</td>\n",
              "      <td>120.339996</td>\n",
              "      <td>117.010002</td>\n",
              "      <td>141.789993</td>\n",
              "    </tr>\n",
              "  </tbody>\n",
              "</table>\n",
              "<p>1279 rows × 10 columns</p>\n",
              "</div>\n",
              "      <button class=\"colab-df-convert\" onclick=\"convertToInteractive('df-207628c0-0c88-4f3b-b42b-4d36c965d27b')\"\n",
              "              title=\"Convert this dataframe to an interactive table.\"\n",
              "              style=\"display:none;\">\n",
              "        \n",
              "  <svg xmlns=\"http://www.w3.org/2000/svg\" height=\"24px\"viewBox=\"0 0 24 24\"\n",
              "       width=\"24px\">\n",
              "    <path d=\"M0 0h24v24H0V0z\" fill=\"none\"/>\n",
              "    <path d=\"M18.56 5.44l.94 2.06.94-2.06 2.06-.94-2.06-.94-.94-2.06-.94 2.06-2.06.94zm-11 1L8.5 8.5l.94-2.06 2.06-.94-2.06-.94L8.5 2.5l-.94 2.06-2.06.94zm10 10l.94 2.06.94-2.06 2.06-.94-2.06-.94-.94-2.06-.94 2.06-2.06.94z\"/><path d=\"M17.41 7.96l-1.37-1.37c-.4-.4-.92-.59-1.43-.59-.52 0-1.04.2-1.43.59L10.3 9.45l-7.72 7.72c-.78.78-.78 2.05 0 2.83L4 21.41c.39.39.9.59 1.41.59.51 0 1.02-.2 1.41-.59l7.78-7.78 2.81-2.81c.8-.78.8-2.07 0-2.86zM5.41 20L4 18.59l7.72-7.72 1.47 1.35L5.41 20z\"/>\n",
              "  </svg>\n",
              "      </button>\n",
              "      \n",
              "  <style>\n",
              "    .colab-df-container {\n",
              "      display:flex;\n",
              "      flex-wrap:wrap;\n",
              "      gap: 12px;\n",
              "    }\n",
              "\n",
              "    .colab-df-convert {\n",
              "      background-color: #E8F0FE;\n",
              "      border: none;\n",
              "      border-radius: 50%;\n",
              "      cursor: pointer;\n",
              "      display: none;\n",
              "      fill: #1967D2;\n",
              "      height: 32px;\n",
              "      padding: 0 0 0 0;\n",
              "      width: 32px;\n",
              "    }\n",
              "\n",
              "    .colab-df-convert:hover {\n",
              "      background-color: #E2EBFA;\n",
              "      box-shadow: 0px 1px 2px rgba(60, 64, 67, 0.3), 0px 1px 3px 1px rgba(60, 64, 67, 0.15);\n",
              "      fill: #174EA6;\n",
              "    }\n",
              "\n",
              "    [theme=dark] .colab-df-convert {\n",
              "      background-color: #3B4455;\n",
              "      fill: #D2E3FC;\n",
              "    }\n",
              "\n",
              "    [theme=dark] .colab-df-convert:hover {\n",
              "      background-color: #434B5C;\n",
              "      box-shadow: 0px 1px 3px 1px rgba(0, 0, 0, 0.15);\n",
              "      filter: drop-shadow(0px 1px 2px rgba(0, 0, 0, 0.3));\n",
              "      fill: #FFFFFF;\n",
              "    }\n",
              "  </style>\n",
              "\n",
              "      <script>\n",
              "        const buttonEl =\n",
              "          document.querySelector('#df-207628c0-0c88-4f3b-b42b-4d36c965d27b button.colab-df-convert');\n",
              "        buttonEl.style.display =\n",
              "          google.colab.kernel.accessAllowed ? 'block' : 'none';\n",
              "\n",
              "        async function convertToInteractive(key) {\n",
              "          const element = document.querySelector('#df-207628c0-0c88-4f3b-b42b-4d36c965d27b');\n",
              "          const dataTable =\n",
              "            await google.colab.kernel.invokeFunction('convertToInteractive',\n",
              "                                                     [key], {});\n",
              "          if (!dataTable) return;\n",
              "\n",
              "          const docLinkHtml = 'Like what you see? Visit the ' +\n",
              "            '<a target=\"_blank\" href=https://colab.research.google.com/notebooks/data_table.ipynb>data table notebook</a>'\n",
              "            + ' to learn more about interactive tables.';\n",
              "          element.innerHTML = '';\n",
              "          dataTable['output_type'] = 'display_data';\n",
              "          await google.colab.output.renderOutput(dataTable, element);\n",
              "          const docLink = document.createElement('div');\n",
              "          docLink.innerHTML = docLinkHtml;\n",
              "          element.appendChild(docLink);\n",
              "        }\n",
              "      </script>\n",
              "    </div>\n",
              "  </div>\n",
              "  "
            ]
          },
          "metadata": {},
          "execution_count": 26
        }
      ]
    },
    {
      "cell_type": "markdown",
      "source": [
        "Calcule los retornos y volatilidades anualizadas."
      ],
      "metadata": {
        "id": "ih4-89rXY-Im"
      }
    },
    {
      "cell_type": "code",
      "source": [
        "retornos2 = np.log(precios2/precios2.shift()).dropna();\n",
        "retornos2"
      ],
      "metadata": {
        "colab": {
          "base_uri": "https://localhost:8080/",
          "height": 454
        },
        "id": "zDlDTz30j-FQ",
        "outputId": "ee16ce95-5c51-423a-c224-b0a06ea72ec2"
      },
      "execution_count": 27,
      "outputs": [
        {
          "output_type": "execute_result",
          "data": {
            "text/plain": [
              "                AAPL       DIS         F        GM       HSY       JPM  \\\n",
              "Date                                                                     \n",
              "2017-12-04 -0.007335  0.046140  0.003966  0.006058  0.016173  0.020403   \n",
              "2017-12-05 -0.000943 -0.027596 -0.015962 -0.005824 -0.000532 -0.011567   \n",
              "2017-12-06 -0.003721 -0.016551 -0.004031 -0.015303  0.008830 -0.007501   \n",
              "2017-12-07  0.001833 -0.001898  0.012043  0.005967 -0.001760 -0.002959   \n",
              "2017-12-08  0.000295 -0.001821  0.006364  0.000000 -0.003175  0.012444   \n",
              "...              ...       ...       ...       ...       ...       ...   \n",
              "2022-12-23 -0.002802  0.015343  0.004411  0.008908  0.004036  0.004734   \n",
              "2022-12-27 -0.013976 -0.018810 -0.014185 -0.015190 -0.000636  0.003498   \n",
              "2022-12-28 -0.031166 -0.025802 -0.022574 -0.023995 -0.012207  0.005450   \n",
              "2022-12-29  0.027931  0.035136  0.052480  0.034444  0.001631  0.005721   \n",
              "2022-12-30  0.002466 -0.003447  0.007769 -0.000891 -0.007229  0.006584   \n",
              "\n",
              "                 MCD      META       NKE       WMT  \n",
              "Date                                                \n",
              "2017-12-04 -0.012925 -0.020949  0.003667 -0.003499  \n",
              "2017-12-05  0.013619  0.007900  0.005310  0.008417  \n",
              "2017-12-06  0.002828  0.018516 -0.011653 -0.005638  \n",
              "2017-12-07 -0.003291  0.022909  0.014628  0.000103  \n",
              "2017-12-08  0.001387 -0.006349  0.011485 -0.002379  \n",
              "...              ...       ...       ...       ...  \n",
              "2022-12-23  0.006750  0.007824 -0.003949  0.002019  \n",
              "2022-12-27 -0.002732 -0.009876  0.011206  0.000278  \n",
              "2022-12-28 -0.006504 -0.010839 -0.022191 -0.017678  \n",
              "2022-12-29  0.003088  0.039347  0.020403  0.006068  \n",
              "2022-12-30 -0.009066  0.000665 -0.002901 -0.002536  \n",
              "\n",
              "[1278 rows x 10 columns]"
            ],
            "text/html": [
              "\n",
              "  <div id=\"df-6815f21d-26ed-4055-8b3c-1619d8c0b546\">\n",
              "    <div class=\"colab-df-container\">\n",
              "      <div>\n",
              "<style scoped>\n",
              "    .dataframe tbody tr th:only-of-type {\n",
              "        vertical-align: middle;\n",
              "    }\n",
              "\n",
              "    .dataframe tbody tr th {\n",
              "        vertical-align: top;\n",
              "    }\n",
              "\n",
              "    .dataframe thead th {\n",
              "        text-align: right;\n",
              "    }\n",
              "</style>\n",
              "<table border=\"1\" class=\"dataframe\">\n",
              "  <thead>\n",
              "    <tr style=\"text-align: right;\">\n",
              "      <th></th>\n",
              "      <th>AAPL</th>\n",
              "      <th>DIS</th>\n",
              "      <th>F</th>\n",
              "      <th>GM</th>\n",
              "      <th>HSY</th>\n",
              "      <th>JPM</th>\n",
              "      <th>MCD</th>\n",
              "      <th>META</th>\n",
              "      <th>NKE</th>\n",
              "      <th>WMT</th>\n",
              "    </tr>\n",
              "    <tr>\n",
              "      <th>Date</th>\n",
              "      <th></th>\n",
              "      <th></th>\n",
              "      <th></th>\n",
              "      <th></th>\n",
              "      <th></th>\n",
              "      <th></th>\n",
              "      <th></th>\n",
              "      <th></th>\n",
              "      <th></th>\n",
              "      <th></th>\n",
              "    </tr>\n",
              "  </thead>\n",
              "  <tbody>\n",
              "    <tr>\n",
              "      <th>2017-12-04</th>\n",
              "      <td>-0.007335</td>\n",
              "      <td>0.046140</td>\n",
              "      <td>0.003966</td>\n",
              "      <td>0.006058</td>\n",
              "      <td>0.016173</td>\n",
              "      <td>0.020403</td>\n",
              "      <td>-0.012925</td>\n",
              "      <td>-0.020949</td>\n",
              "      <td>0.003667</td>\n",
              "      <td>-0.003499</td>\n",
              "    </tr>\n",
              "    <tr>\n",
              "      <th>2017-12-05</th>\n",
              "      <td>-0.000943</td>\n",
              "      <td>-0.027596</td>\n",
              "      <td>-0.015962</td>\n",
              "      <td>-0.005824</td>\n",
              "      <td>-0.000532</td>\n",
              "      <td>-0.011567</td>\n",
              "      <td>0.013619</td>\n",
              "      <td>0.007900</td>\n",
              "      <td>0.005310</td>\n",
              "      <td>0.008417</td>\n",
              "    </tr>\n",
              "    <tr>\n",
              "      <th>2017-12-06</th>\n",
              "      <td>-0.003721</td>\n",
              "      <td>-0.016551</td>\n",
              "      <td>-0.004031</td>\n",
              "      <td>-0.015303</td>\n",
              "      <td>0.008830</td>\n",
              "      <td>-0.007501</td>\n",
              "      <td>0.002828</td>\n",
              "      <td>0.018516</td>\n",
              "      <td>-0.011653</td>\n",
              "      <td>-0.005638</td>\n",
              "    </tr>\n",
              "    <tr>\n",
              "      <th>2017-12-07</th>\n",
              "      <td>0.001833</td>\n",
              "      <td>-0.001898</td>\n",
              "      <td>0.012043</td>\n",
              "      <td>0.005967</td>\n",
              "      <td>-0.001760</td>\n",
              "      <td>-0.002959</td>\n",
              "      <td>-0.003291</td>\n",
              "      <td>0.022909</td>\n",
              "      <td>0.014628</td>\n",
              "      <td>0.000103</td>\n",
              "    </tr>\n",
              "    <tr>\n",
              "      <th>2017-12-08</th>\n",
              "      <td>0.000295</td>\n",
              "      <td>-0.001821</td>\n",
              "      <td>0.006364</td>\n",
              "      <td>0.000000</td>\n",
              "      <td>-0.003175</td>\n",
              "      <td>0.012444</td>\n",
              "      <td>0.001387</td>\n",
              "      <td>-0.006349</td>\n",
              "      <td>0.011485</td>\n",
              "      <td>-0.002379</td>\n",
              "    </tr>\n",
              "    <tr>\n",
              "      <th>...</th>\n",
              "      <td>...</td>\n",
              "      <td>...</td>\n",
              "      <td>...</td>\n",
              "      <td>...</td>\n",
              "      <td>...</td>\n",
              "      <td>...</td>\n",
              "      <td>...</td>\n",
              "      <td>...</td>\n",
              "      <td>...</td>\n",
              "      <td>...</td>\n",
              "    </tr>\n",
              "    <tr>\n",
              "      <th>2022-12-23</th>\n",
              "      <td>-0.002802</td>\n",
              "      <td>0.015343</td>\n",
              "      <td>0.004411</td>\n",
              "      <td>0.008908</td>\n",
              "      <td>0.004036</td>\n",
              "      <td>0.004734</td>\n",
              "      <td>0.006750</td>\n",
              "      <td>0.007824</td>\n",
              "      <td>-0.003949</td>\n",
              "      <td>0.002019</td>\n",
              "    </tr>\n",
              "    <tr>\n",
              "      <th>2022-12-27</th>\n",
              "      <td>-0.013976</td>\n",
              "      <td>-0.018810</td>\n",
              "      <td>-0.014185</td>\n",
              "      <td>-0.015190</td>\n",
              "      <td>-0.000636</td>\n",
              "      <td>0.003498</td>\n",
              "      <td>-0.002732</td>\n",
              "      <td>-0.009876</td>\n",
              "      <td>0.011206</td>\n",
              "      <td>0.000278</td>\n",
              "    </tr>\n",
              "    <tr>\n",
              "      <th>2022-12-28</th>\n",
              "      <td>-0.031166</td>\n",
              "      <td>-0.025802</td>\n",
              "      <td>-0.022574</td>\n",
              "      <td>-0.023995</td>\n",
              "      <td>-0.012207</td>\n",
              "      <td>0.005450</td>\n",
              "      <td>-0.006504</td>\n",
              "      <td>-0.010839</td>\n",
              "      <td>-0.022191</td>\n",
              "      <td>-0.017678</td>\n",
              "    </tr>\n",
              "    <tr>\n",
              "      <th>2022-12-29</th>\n",
              "      <td>0.027931</td>\n",
              "      <td>0.035136</td>\n",
              "      <td>0.052480</td>\n",
              "      <td>0.034444</td>\n",
              "      <td>0.001631</td>\n",
              "      <td>0.005721</td>\n",
              "      <td>0.003088</td>\n",
              "      <td>0.039347</td>\n",
              "      <td>0.020403</td>\n",
              "      <td>0.006068</td>\n",
              "    </tr>\n",
              "    <tr>\n",
              "      <th>2022-12-30</th>\n",
              "      <td>0.002466</td>\n",
              "      <td>-0.003447</td>\n",
              "      <td>0.007769</td>\n",
              "      <td>-0.000891</td>\n",
              "      <td>-0.007229</td>\n",
              "      <td>0.006584</td>\n",
              "      <td>-0.009066</td>\n",
              "      <td>0.000665</td>\n",
              "      <td>-0.002901</td>\n",
              "      <td>-0.002536</td>\n",
              "    </tr>\n",
              "  </tbody>\n",
              "</table>\n",
              "<p>1278 rows × 10 columns</p>\n",
              "</div>\n",
              "      <button class=\"colab-df-convert\" onclick=\"convertToInteractive('df-6815f21d-26ed-4055-8b3c-1619d8c0b546')\"\n",
              "              title=\"Convert this dataframe to an interactive table.\"\n",
              "              style=\"display:none;\">\n",
              "        \n",
              "  <svg xmlns=\"http://www.w3.org/2000/svg\" height=\"24px\"viewBox=\"0 0 24 24\"\n",
              "       width=\"24px\">\n",
              "    <path d=\"M0 0h24v24H0V0z\" fill=\"none\"/>\n",
              "    <path d=\"M18.56 5.44l.94 2.06.94-2.06 2.06-.94-2.06-.94-.94-2.06-.94 2.06-2.06.94zm-11 1L8.5 8.5l.94-2.06 2.06-.94-2.06-.94L8.5 2.5l-.94 2.06-2.06.94zm10 10l.94 2.06.94-2.06 2.06-.94-2.06-.94-.94-2.06-.94 2.06-2.06.94z\"/><path d=\"M17.41 7.96l-1.37-1.37c-.4-.4-.92-.59-1.43-.59-.52 0-1.04.2-1.43.59L10.3 9.45l-7.72 7.72c-.78.78-.78 2.05 0 2.83L4 21.41c.39.39.9.59 1.41.59.51 0 1.02-.2 1.41-.59l7.78-7.78 2.81-2.81c.8-.78.8-2.07 0-2.86zM5.41 20L4 18.59l7.72-7.72 1.47 1.35L5.41 20z\"/>\n",
              "  </svg>\n",
              "      </button>\n",
              "      \n",
              "  <style>\n",
              "    .colab-df-container {\n",
              "      display:flex;\n",
              "      flex-wrap:wrap;\n",
              "      gap: 12px;\n",
              "    }\n",
              "\n",
              "    .colab-df-convert {\n",
              "      background-color: #E8F0FE;\n",
              "      border: none;\n",
              "      border-radius: 50%;\n",
              "      cursor: pointer;\n",
              "      display: none;\n",
              "      fill: #1967D2;\n",
              "      height: 32px;\n",
              "      padding: 0 0 0 0;\n",
              "      width: 32px;\n",
              "    }\n",
              "\n",
              "    .colab-df-convert:hover {\n",
              "      background-color: #E2EBFA;\n",
              "      box-shadow: 0px 1px 2px rgba(60, 64, 67, 0.3), 0px 1px 3px 1px rgba(60, 64, 67, 0.15);\n",
              "      fill: #174EA6;\n",
              "    }\n",
              "\n",
              "    [theme=dark] .colab-df-convert {\n",
              "      background-color: #3B4455;\n",
              "      fill: #D2E3FC;\n",
              "    }\n",
              "\n",
              "    [theme=dark] .colab-df-convert:hover {\n",
              "      background-color: #434B5C;\n",
              "      box-shadow: 0px 1px 3px 1px rgba(0, 0, 0, 0.15);\n",
              "      filter: drop-shadow(0px 1px 2px rgba(0, 0, 0, 0.3));\n",
              "      fill: #FFFFFF;\n",
              "    }\n",
              "  </style>\n",
              "\n",
              "      <script>\n",
              "        const buttonEl =\n",
              "          document.querySelector('#df-6815f21d-26ed-4055-8b3c-1619d8c0b546 button.colab-df-convert');\n",
              "        buttonEl.style.display =\n",
              "          google.colab.kernel.accessAllowed ? 'block' : 'none';\n",
              "\n",
              "        async function convertToInteractive(key) {\n",
              "          const element = document.querySelector('#df-6815f21d-26ed-4055-8b3c-1619d8c0b546');\n",
              "          const dataTable =\n",
              "            await google.colab.kernel.invokeFunction('convertToInteractive',\n",
              "                                                     [key], {});\n",
              "          if (!dataTable) return;\n",
              "\n",
              "          const docLinkHtml = 'Like what you see? Visit the ' +\n",
              "            '<a target=\"_blank\" href=https://colab.research.google.com/notebooks/data_table.ipynb>data table notebook</a>'\n",
              "            + ' to learn more about interactive tables.';\n",
              "          element.innerHTML = '';\n",
              "          dataTable['output_type'] = 'display_data';\n",
              "          await google.colab.output.renderOutput(dataTable, element);\n",
              "          const docLink = document.createElement('div');\n",
              "          docLink.innerHTML = docLinkHtml;\n",
              "          element.appendChild(docLink);\n",
              "        }\n",
              "      </script>\n",
              "    </div>\n",
              "  </div>\n",
              "  "
            ]
          },
          "metadata": {},
          "execution_count": 27
        }
      ]
    },
    {
      "cell_type": "code",
      "source": [
        "retornos2.std()*np.sqrt(252)"
      ],
      "metadata": {
        "id": "UzYtUPVak742",
        "colab": {
          "base_uri": "https://localhost:8080/"
        },
        "outputId": "25fe2107-efa3-460f-cc3e-0dcfc2bd2537"
      },
      "execution_count": 28,
      "outputs": [
        {
          "output_type": "execute_result",
          "data": {
            "text/plain": [
              "AAPL    0.333019\n",
              "DIS     0.325576\n",
              "F       0.416004\n",
              "GM      0.416739\n",
              "HSY     0.235199\n",
              "JPM     0.318376\n",
              "MCD     0.238524\n",
              "META    0.440655\n",
              "NKE     0.331294\n",
              "WMT     0.233756\n",
              "dtype: float64"
            ]
          },
          "metadata": {},
          "execution_count": 28
        }
      ]
    },
    {
      "cell_type": "markdown",
      "source": [
        "Construya una tabla en la que se muestre un ranqueo de los activos de acuerdo con su \n",
        "retorno esperado.\n"
      ],
      "metadata": {
        "id": "kSEIkzOqZbw0"
      }
    },
    {
      "cell_type": "code",
      "source": [
        "top = retornos2.mean()\n",
        "top"
      ],
      "metadata": {
        "id": "mrOr_oLcNqJ3",
        "colab": {
          "base_uri": "https://localhost:8080/"
        },
        "outputId": "528ef7cb-a5e7-4264-b49f-221bc8b602bf"
      },
      "execution_count": 29,
      "outputs": [
        {
          "output_type": "execute_result",
          "data": {
            "text/plain": [
              "AAPL    0.000909\n",
              "DIS    -0.000122\n",
              "F       0.000085\n",
              "GM     -0.000105\n",
              "HSY     0.000661\n",
              "JPM     0.000306\n",
              "MCD     0.000422\n",
              "META   -0.000293\n",
              "NKE     0.000563\n",
              "WMT     0.000370\n",
              "dtype: float64"
            ]
          },
          "metadata": {},
          "execution_count": 29
        }
      ]
    },
    {
      "cell_type": "code",
      "source": [
        "top = pd.DataFrame(top,columns=[\"Rendimientos\"])\n",
        "ranking = top.sort_values(\"Rendimientos\",ascending=False)\n",
        "ranking"
      ],
      "metadata": {
        "colab": {
          "base_uri": "https://localhost:8080/",
          "height": 362
        },
        "id": "URlFNZjbZkq_",
        "outputId": "2cea56a0-774b-473f-b1d1-7de6607863c7"
      },
      "execution_count": 30,
      "outputs": [
        {
          "output_type": "execute_result",
          "data": {
            "text/plain": [
              "      Rendimientos\n",
              "AAPL      0.000909\n",
              "HSY       0.000661\n",
              "NKE       0.000563\n",
              "MCD       0.000422\n",
              "WMT       0.000370\n",
              "JPM       0.000306\n",
              "F         0.000085\n",
              "GM       -0.000105\n",
              "DIS      -0.000122\n",
              "META     -0.000293"
            ],
            "text/html": [
              "\n",
              "  <div id=\"df-1bbb5d1c-2568-443c-9e54-2bb155e8e33d\">\n",
              "    <div class=\"colab-df-container\">\n",
              "      <div>\n",
              "<style scoped>\n",
              "    .dataframe tbody tr th:only-of-type {\n",
              "        vertical-align: middle;\n",
              "    }\n",
              "\n",
              "    .dataframe tbody tr th {\n",
              "        vertical-align: top;\n",
              "    }\n",
              "\n",
              "    .dataframe thead th {\n",
              "        text-align: right;\n",
              "    }\n",
              "</style>\n",
              "<table border=\"1\" class=\"dataframe\">\n",
              "  <thead>\n",
              "    <tr style=\"text-align: right;\">\n",
              "      <th></th>\n",
              "      <th>Rendimientos</th>\n",
              "    </tr>\n",
              "  </thead>\n",
              "  <tbody>\n",
              "    <tr>\n",
              "      <th>AAPL</th>\n",
              "      <td>0.000909</td>\n",
              "    </tr>\n",
              "    <tr>\n",
              "      <th>HSY</th>\n",
              "      <td>0.000661</td>\n",
              "    </tr>\n",
              "    <tr>\n",
              "      <th>NKE</th>\n",
              "      <td>0.000563</td>\n",
              "    </tr>\n",
              "    <tr>\n",
              "      <th>MCD</th>\n",
              "      <td>0.000422</td>\n",
              "    </tr>\n",
              "    <tr>\n",
              "      <th>WMT</th>\n",
              "      <td>0.000370</td>\n",
              "    </tr>\n",
              "    <tr>\n",
              "      <th>JPM</th>\n",
              "      <td>0.000306</td>\n",
              "    </tr>\n",
              "    <tr>\n",
              "      <th>F</th>\n",
              "      <td>0.000085</td>\n",
              "    </tr>\n",
              "    <tr>\n",
              "      <th>GM</th>\n",
              "      <td>-0.000105</td>\n",
              "    </tr>\n",
              "    <tr>\n",
              "      <th>DIS</th>\n",
              "      <td>-0.000122</td>\n",
              "    </tr>\n",
              "    <tr>\n",
              "      <th>META</th>\n",
              "      <td>-0.000293</td>\n",
              "    </tr>\n",
              "  </tbody>\n",
              "</table>\n",
              "</div>\n",
              "      <button class=\"colab-df-convert\" onclick=\"convertToInteractive('df-1bbb5d1c-2568-443c-9e54-2bb155e8e33d')\"\n",
              "              title=\"Convert this dataframe to an interactive table.\"\n",
              "              style=\"display:none;\">\n",
              "        \n",
              "  <svg xmlns=\"http://www.w3.org/2000/svg\" height=\"24px\"viewBox=\"0 0 24 24\"\n",
              "       width=\"24px\">\n",
              "    <path d=\"M0 0h24v24H0V0z\" fill=\"none\"/>\n",
              "    <path d=\"M18.56 5.44l.94 2.06.94-2.06 2.06-.94-2.06-.94-.94-2.06-.94 2.06-2.06.94zm-11 1L8.5 8.5l.94-2.06 2.06-.94-2.06-.94L8.5 2.5l-.94 2.06-2.06.94zm10 10l.94 2.06.94-2.06 2.06-.94-2.06-.94-.94-2.06-.94 2.06-2.06.94z\"/><path d=\"M17.41 7.96l-1.37-1.37c-.4-.4-.92-.59-1.43-.59-.52 0-1.04.2-1.43.59L10.3 9.45l-7.72 7.72c-.78.78-.78 2.05 0 2.83L4 21.41c.39.39.9.59 1.41.59.51 0 1.02-.2 1.41-.59l7.78-7.78 2.81-2.81c.8-.78.8-2.07 0-2.86zM5.41 20L4 18.59l7.72-7.72 1.47 1.35L5.41 20z\"/>\n",
              "  </svg>\n",
              "      </button>\n",
              "      \n",
              "  <style>\n",
              "    .colab-df-container {\n",
              "      display:flex;\n",
              "      flex-wrap:wrap;\n",
              "      gap: 12px;\n",
              "    }\n",
              "\n",
              "    .colab-df-convert {\n",
              "      background-color: #E8F0FE;\n",
              "      border: none;\n",
              "      border-radius: 50%;\n",
              "      cursor: pointer;\n",
              "      display: none;\n",
              "      fill: #1967D2;\n",
              "      height: 32px;\n",
              "      padding: 0 0 0 0;\n",
              "      width: 32px;\n",
              "    }\n",
              "\n",
              "    .colab-df-convert:hover {\n",
              "      background-color: #E2EBFA;\n",
              "      box-shadow: 0px 1px 2px rgba(60, 64, 67, 0.3), 0px 1px 3px 1px rgba(60, 64, 67, 0.15);\n",
              "      fill: #174EA6;\n",
              "    }\n",
              "\n",
              "    [theme=dark] .colab-df-convert {\n",
              "      background-color: #3B4455;\n",
              "      fill: #D2E3FC;\n",
              "    }\n",
              "\n",
              "    [theme=dark] .colab-df-convert:hover {\n",
              "      background-color: #434B5C;\n",
              "      box-shadow: 0px 1px 3px 1px rgba(0, 0, 0, 0.15);\n",
              "      filter: drop-shadow(0px 1px 2px rgba(0, 0, 0, 0.3));\n",
              "      fill: #FFFFFF;\n",
              "    }\n",
              "  </style>\n",
              "\n",
              "      <script>\n",
              "        const buttonEl =\n",
              "          document.querySelector('#df-1bbb5d1c-2568-443c-9e54-2bb155e8e33d button.colab-df-convert');\n",
              "        buttonEl.style.display =\n",
              "          google.colab.kernel.accessAllowed ? 'block' : 'none';\n",
              "\n",
              "        async function convertToInteractive(key) {\n",
              "          const element = document.querySelector('#df-1bbb5d1c-2568-443c-9e54-2bb155e8e33d');\n",
              "          const dataTable =\n",
              "            await google.colab.kernel.invokeFunction('convertToInteractive',\n",
              "                                                     [key], {});\n",
              "          if (!dataTable) return;\n",
              "\n",
              "          const docLinkHtml = 'Like what you see? Visit the ' +\n",
              "            '<a target=\"_blank\" href=https://colab.research.google.com/notebooks/data_table.ipynb>data table notebook</a>'\n",
              "            + ' to learn more about interactive tables.';\n",
              "          element.innerHTML = '';\n",
              "          dataTable['output_type'] = 'display_data';\n",
              "          await google.colab.output.renderOutput(dataTable, element);\n",
              "          const docLink = document.createElement('div');\n",
              "          docLink.innerHTML = docLinkHtml;\n",
              "          element.appendChild(docLink);\n",
              "        }\n",
              "      </script>\n",
              "    </div>\n",
              "  </div>\n",
              "  "
            ]
          },
          "metadata": {},
          "execution_count": 30
        }
      ]
    },
    {
      "cell_type": "markdown",
      "source": [
        "**Punto 3**"
      ],
      "metadata": {
        "id": "FsaUh8jLkytw"
      }
    },
    {
      "cell_type": "code",
      "source": [
        "precios_rus= yf.download(tickers= '^RUT', start=\"2011-12-31\",end=\"2022-12-31\")[\"Adj Close\"]\n",
        "precios_rus"
      ],
      "metadata": {
        "colab": {
          "base_uri": "https://localhost:8080/"
        },
        "id": "O903_YVuk0av",
        "outputId": "0583d0ee-5b6b-4c31-dc8e-bd21c86e7f70"
      },
      "execution_count": 31,
      "outputs": [
        {
          "output_type": "stream",
          "name": "stdout",
          "text": [
            "\r[*********************100%***********************]  1 of 1 completed\n"
          ]
        },
        {
          "output_type": "execute_result",
          "data": {
            "text/plain": [
              "Date\n",
              "2012-01-03     752.280029\n",
              "2012-01-04     747.280029\n",
              "2012-01-05     752.289978\n",
              "2012-01-06     749.710022\n",
              "2012-01-09     753.510010\n",
              "                 ...     \n",
              "2022-12-23    1760.930054\n",
              "2022-12-27    1749.520020\n",
              "2022-12-28    1722.020020\n",
              "2022-12-29    1766.250000\n",
              "2022-12-30    1761.250000\n",
              "Name: Adj Close, Length: 2768, dtype: float64"
            ]
          },
          "metadata": {},
          "execution_count": 31
        }
      ]
    },
    {
      "cell_type": "code",
      "source": [
        "retornos_rus= np.log(precios_rus/precios_rus.shift()).dropna()\n",
        "retornos_rus"
      ],
      "metadata": {
        "colab": {
          "base_uri": "https://localhost:8080/"
        },
        "id": "QC_a8MHrlw0D",
        "outputId": "58aed84c-80ac-4a25-cc63-981f01c67ff5"
      },
      "execution_count": 32,
      "outputs": [
        {
          "output_type": "execute_result",
          "data": {
            "text/plain": [
              "Date\n",
              "2012-01-04   -0.006669\n",
              "2012-01-05    0.006682\n",
              "2012-01-06   -0.003435\n",
              "2012-01-09    0.005056\n",
              "2012-01-10    0.014807\n",
              "                ...   \n",
              "2022-12-23    0.003892\n",
              "2022-12-27   -0.006501\n",
              "2022-12-28   -0.015843\n",
              "2022-12-29    0.025361\n",
              "2022-12-30   -0.002835\n",
              "Name: Adj Close, Length: 2767, dtype: float64"
            ]
          },
          "metadata": {},
          "execution_count": 32
        }
      ]
    },
    {
      "cell_type": "markdown",
      "source": [
        "**Volatilidad Close to Close**"
      ],
      "metadata": {
        "id": "evjfCtD6nVZt"
      }
    },
    {
      "cell_type": "code",
      "source": [
        "retornos_rus.std()*np.sqrt(252)"
      ],
      "metadata": {
        "colab": {
          "base_uri": "https://localhost:8080/"
        },
        "id": "vLwBWpgFnLYk",
        "outputId": "6b1234de-40ba-4052-a870-438e2e22c40d"
      },
      "execution_count": 33,
      "outputs": [
        {
          "output_type": "execute_result",
          "data": {
            "text/plain": [
              "0.2185816915644669"
            ]
          },
          "metadata": {},
          "execution_count": 33
        }
      ]
    },
    {
      "cell_type": "code",
      "source": [
        "retornos_rus.std()*np.sqrt(12)"
      ],
      "metadata": {
        "colab": {
          "base_uri": "https://localhost:8080/"
        },
        "id": "0wzEZSWQnvVb",
        "outputId": "dcfccb5d-6d3c-400c-8887-68efa4822ff8"
      },
      "execution_count": 34,
      "outputs": [
        {
          "output_type": "execute_result",
          "data": {
            "text/plain": [
              "0.04769843557741238"
            ]
          },
          "metadata": {},
          "execution_count": 34
        }
      ]
    },
    {
      "cell_type": "markdown",
      "source": [
        "**Volatilidad Parkinson**"
      ],
      "metadata": {
        "id": "129CSu1vrC0u"
      }
    },
    {
      "cell_type": "code",
      "source": [
        "precios_rus2= yf.download(tickers= '^RUT', start=\"2011-12-31\",end=\"2022-12-31\")\n",
        "ret_rus_parki = np.log(precios_rus2[\"High\"]/precios_rus2[\"Low\"]).dropna()\n",
        "rus_parki = ((1/(4*np.log(2)))*ret_rus_parki**2)**0.5\n",
        "rus_parki"
      ],
      "metadata": {
        "colab": {
          "base_uri": "https://localhost:8080/"
        },
        "id": "GZ2byirUrGnI",
        "outputId": "4583e328-31c1-4a52-be19-103e63e43261"
      },
      "execution_count": 35,
      "outputs": [
        {
          "output_type": "stream",
          "name": "stdout",
          "text": [
            "\r[*********************100%***********************]  1 of 1 completed\n"
          ]
        },
        {
          "output_type": "execute_result",
          "data": {
            "text/plain": [
              "Date\n",
              "2012-01-03    0.007857\n",
              "2012-01-04    0.005408\n",
              "2012-01-05    0.014185\n",
              "2012-01-06    0.007172\n",
              "2012-01-09    0.005743\n",
              "                ...   \n",
              "2022-12-23    0.005997\n",
              "2022-12-27    0.005552\n",
              "2022-12-28    0.011027\n",
              "2022-12-29    0.013946\n",
              "2022-12-30    0.005713\n",
              "Length: 2768, dtype: float64"
            ]
          },
          "metadata": {},
          "execution_count": 35
        }
      ]
    },
    {
      "cell_type": "code",
      "source": [
        "rus_parki.mean()*np.sqrt(252) "
      ],
      "metadata": {
        "colab": {
          "base_uri": "https://localhost:8080/"
        },
        "id": "Ip94_2ZesQVR",
        "outputId": "88cc173e-fad8-4e27-8153-20267161ff85"
      },
      "execution_count": 36,
      "outputs": [
        {
          "output_type": "execute_result",
          "data": {
            "text/plain": [
              "0.1379708438811804"
            ]
          },
          "metadata": {},
          "execution_count": 36
        }
      ]
    },
    {
      "cell_type": "code",
      "source": [
        "rus_parki.mean()*np.sqrt(12) "
      ],
      "metadata": {
        "colab": {
          "base_uri": "https://localhost:8080/"
        },
        "id": "GTkpOtczL-GW",
        "outputId": "a68fe50d-570f-43cc-c67a-5a5ed7a2a3c7"
      },
      "execution_count": 37,
      "outputs": [
        {
          "output_type": "execute_result",
          "data": {
            "text/plain": [
              "0.03010770646583066"
            ]
          },
          "metadata": {},
          "execution_count": 37
        }
      ]
    },
    {
      "cell_type": "markdown",
      "source": [
        "**Volatilidad de Garman-Klass**"
      ],
      "metadata": {
        "id": "318PAweguQ5i"
      }
    },
    {
      "cell_type": "code",
      "source": [
        "ret_rus_gar = np.log(precios_rus2[\"Close\"]/precios_rus2[\"Open\"]).dropna()\n",
        "rus_gar = (0.5*ret_rus_parki**2-(2*np.log(2)-1)*ret_rus_gar**2)**0.5\n",
        "rus_gar"
      ],
      "metadata": {
        "colab": {
          "base_uri": "https://localhost:8080/"
        },
        "id": "26Tn5GuCu5GE",
        "outputId": "d2877402-4bd2-49c7-8e70-39bdd8089d08"
      },
      "execution_count": 38,
      "outputs": [
        {
          "output_type": "execute_result",
          "data": {
            "text/plain": [
              "Date\n",
              "2012-01-03    0.009158\n",
              "2012-01-04    0.006305\n",
              "2012-01-05    0.015112\n",
              "2012-01-06    0.008208\n",
              "2012-01-09    0.006752\n",
              "                ...   \n",
              "2022-12-23    0.006510\n",
              "2022-12-27    0.005010\n",
              "2022-12-28    0.008289\n",
              "2022-12-29    0.008822\n",
              "2022-12-30    0.006690\n",
              "Length: 2768, dtype: float64"
            ]
          },
          "metadata": {},
          "execution_count": 38
        }
      ]
    },
    {
      "cell_type": "code",
      "source": [
        "rus_gar.mean()*np.sqrt(252)"
      ],
      "metadata": {
        "colab": {
          "base_uri": "https://localhost:8080/"
        },
        "id": "0CewW8MBHVxc",
        "outputId": "36a14e36-814e-40c9-a0b4-4ce285f7c477"
      },
      "execution_count": 39,
      "outputs": [
        {
          "output_type": "execute_result",
          "data": {
            "text/plain": [
              "0.12851256011692375"
            ]
          },
          "metadata": {},
          "execution_count": 39
        }
      ]
    },
    {
      "cell_type": "code",
      "source": [
        "rus_gar.mean()*np.sqrt(12)"
      ],
      "metadata": {
        "colab": {
          "base_uri": "https://localhost:8080/"
        },
        "id": "8GY_KLqNMDZF",
        "outputId": "24747999-d10d-4880-c0f8-2dca2d4b3286"
      },
      "execution_count": 40,
      "outputs": [
        {
          "output_type": "execute_result",
          "data": {
            "text/plain": [
              "0.028043739737541235"
            ]
          },
          "metadata": {},
          "execution_count": 40
        }
      ]
    },
    {
      "cell_type": "markdown",
      "source": [
        "**Volatilidad EWMA**"
      ],
      "metadata": {
        "id": "Y3701hxEHutY"
      }
    },
    {
      "cell_type": "code",
      "source": [
        "L = 0.94\n",
        "t = (retornos_rus-1)\n",
        "t1 = t[::-1] \n",
        "k = np.arange(2767-1,-1,-1)\n",
        "alpha = np.power(L,k)\n",
        "pd.Series(alpha)\n",
        "varEWMA = (alpha[0:2767]*retornos_rus**2)\n",
        "np.sqrt(varEWMA)"
      ],
      "metadata": {
        "colab": {
          "base_uri": "https://localhost:8080/"
        },
        "id": "gsaxzuKOJcSK",
        "outputId": "3f535412-fcf9-4205-a020-9f29183a91f0"
      },
      "execution_count": 41,
      "outputs": [
        {
          "output_type": "execute_result",
          "data": {
            "text/plain": [
              "Date\n",
              "2012-01-04    4.569401e-40\n",
              "2012-01-05    4.722324e-40\n",
              "2012-01-06    2.504185e-40\n",
              "2012-01-09    3.801196e-40\n",
              "2012-01-10    1.148216e-39\n",
              "                  ...     \n",
              "2022-12-23    3.438905e-03\n",
              "2022-12-27    5.924442e-03\n",
              "2022-12-28    1.489284e-02\n",
              "2022-12-29    2.458804e-02\n",
              "2022-12-30    2.834871e-03\n",
              "Name: Adj Close, Length: 2767, dtype: float64"
            ]
          },
          "metadata": {},
          "execution_count": 41
        }
      ]
    },
    {
      "cell_type": "code",
      "source": [
        "var = varEWMA.sum()*(1-L)\n",
        "vol = np.sqrt(var)\n",
        "vol*np.sqrt(252)"
      ],
      "metadata": {
        "colab": {
          "base_uri": "https://localhost:8080/"
        },
        "id": "xYuBhpKmKfXr",
        "outputId": "d897fe8c-ca5f-469f-891c-c0478652d134"
      },
      "execution_count": 42,
      "outputs": [
        {
          "output_type": "execute_result",
          "data": {
            "text/plain": [
              "0.23813792370280473"
            ]
          },
          "metadata": {},
          "execution_count": 42
        }
      ]
    },
    {
      "cell_type": "code",
      "source": [
        "vol*np.sqrt(12)"
      ],
      "metadata": {
        "colab": {
          "base_uri": "https://localhost:8080/"
        },
        "id": "VCy_qPf6MUoc",
        "outputId": "37f672e5-f137-4f1c-ad4e-7e58230a639e"
      },
      "execution_count": 43,
      "outputs": [
        {
          "output_type": "execute_result",
          "data": {
            "text/plain": [
              "0.05196595529560577"
            ]
          },
          "metadata": {},
          "execution_count": 43
        }
      ]
    }
  ]
}